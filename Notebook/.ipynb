{
 "cells": [
  {
   "cell_type": "code",
   "execution_count": 27,
   "metadata": {},
   "outputs": [],
   "source": [
    "from bse_dsdm.preprocessing.feature_scaling import *\n",
    "from bse_dsdm.preprocessing.outlier_detection import *\n",
    "from bse_dsdm.preprocessing.value_encoder import *\n",
    "from bse_dsdm.preprocessing.value_imputer import *\n",
    "from bse_dsdm.preprocessing.load_data import *\n",
    "from bse_dsdm.preprocessing.exploratory_analysis import *\n",
    "from bse_dsdm.accuracy_testing.cross_validation import *\n",
    "import pandas as pd\n",
    "from sklearn.model_selection import train_test_split\n",
    "from abc import ABC, abstractmethod\n",
    "import pandas as pd\n",
    "from datetime import datetime\n",
    "from sklearn.ensemble import RandomForestClassifier\n",
    "from sklearn.metrics import roc_auc_score\n",
    "import pandas as pd\n",
    "from sklearn.model_selection import train_test_split\n",
    "from sklearn.metrics import accuracy_score, f1_score, roc_auc_score, roc_curve, auc\n",
    "from sklearn.model_selection import GridSearchCV"
   ]
  },
  {
   "cell_type": "markdown",
   "metadata": {},
   "source": [
    "LOAD DATA"
   ]
  },
  {
   "cell_type": "code",
   "execution_count": 2,
   "metadata": {},
   "outputs": [
    {
     "name": "stdout",
     "output_type": "stream",
     "text": [
      "          id   short_name  overall  potential   value_eur  wage_eur  \\\n",
      "0     216302    E. García       71         71   1400000.0     10000   \n",
      "1     237867   D. Cancola       65         71   1000000.0      2000   \n",
      "2     253472      E. Kahl       65         77   1600000.0      2000   \n",
      "3     223994    S. Mugoša       72         72   2300000.0      5000   \n",
      "4     251635  A. Țigănașu       65         65    525000.0      3000   \n",
      "...      ...          ...      ...        ...         ...       ...   \n",
      "6890  242007    C. Whelan       59         66    425000.0      2000   \n",
      "6891  187961     Paulinho       83         83  28500000.0     61000   \n",
      "6892  257234   Y. Hamache       70         80   3400000.0      6000   \n",
      "6893  232511    S. Sasaki       71         71   1300000.0      7000   \n",
      "6894  246750    S. Haudum       66         70   1100000.0      4000   \n",
      "\n",
      "     birthday_date  height_cm  weight_kg                  club_name  ...  \\\n",
      "0       1989-12-28        176         73  Club Atlético de San Luis  ...   \n",
      "1       1996-10-23        183         73             Ross County FC  ...   \n",
      "2       2001-09-27        178         69                  Aarhus GF  ...   \n",
      "3       1992-02-26        188         81          Incheon United FC  ...   \n",
      "4       1990-06-12        179         74                FC Botoşani  ...   \n",
      "...            ...        ...        ...                        ...  ...   \n",
      "6890    1997-12-10        180         65            Carlisle United  ...   \n",
      "6891    1988-07-25        183         80                    Al Ahli  ...   \n",
      "6892    1999-07-13        177         73                Boavista FC  ...   \n",
      "6893    1989-10-02        176         70        Sanfrecce Hiroshima  ...   \n",
      "6894    1994-11-27        188         74        SC Rheindorf Altach  ...   \n",
      "\n",
      "     defending_marking_awareness  defending_standing_tackle  \\\n",
      "0                             65                         66   \n",
      "1                             65                         61   \n",
      "2                             60                         58   \n",
      "3                             16                         22   \n",
      "4                             64                         61   \n",
      "...                          ...                        ...   \n",
      "6890                          52                         57   \n",
      "6891                          80                         79   \n",
      "6892                          62                         67   \n",
      "6893                          72                         72   \n",
      "6894                          65                         63   \n",
      "\n",
      "      defending_sliding_tackle goalkeeping_diving goalkeeping_handling  \\\n",
      "0                           65                 14                   11   \n",
      "1                           58                 10                   13   \n",
      "2                           59                 10                   10   \n",
      "3                           19                 16                   15   \n",
      "4                           58                 12                    5   \n",
      "...                        ...                ...                  ...   \n",
      "6890                        58                 12                    9   \n",
      "6891                        75                 16                   16   \n",
      "6892                        68                  8                    9   \n",
      "6893                        70                  8                   10   \n",
      "6894                        61                 14                    9   \n",
      "\n",
      "      goalkeeping_kicking goalkeeping_positioning  goalkeeping_reflexes  \\\n",
      "0                      12                      12                    12   \n",
      "1                       7                       6                    11   \n",
      "2                       8                      10                    11   \n",
      "3                      13                       8                     9   \n",
      "4                      11                      12                    15   \n",
      "...                   ...                     ...                   ...   \n",
      "6890                   10                       8                    13   \n",
      "6891                   11                       6                     8   \n",
      "6892                    5                       8                    10   \n",
      "6893                   10                      10                     8   \n",
      "6894                   11                       9                     6   \n",
      "\n",
      "     goalkeeping_speed  position  \n",
      "0                  NaN        LB  \n",
      "1                  NaN       LDM  \n",
      "2                  NaN       LWB  \n",
      "3                  NaN        LS  \n",
      "4                  NaN        LB  \n",
      "...                ...       ...  \n",
      "6890               NaN       RCB  \n",
      "6891               NaN       LCM  \n",
      "6892               NaN       LWB  \n",
      "6893               NaN       LCB  \n",
      "6894               NaN       RCM  \n",
      "\n",
      "[6895 rows x 70 columns]\n"
     ]
    }
   ],
   "source": [
    "df=load_csv_data('../train.csv')\n",
    "print(df)"
   ]
  },
  {
   "cell_type": "code",
   "execution_count": 3,
   "metadata": {},
   "outputs": [
    {
     "name": "stdout",
     "output_type": "stream",
     "text": [
      "          id   short_name  overall  potential   value_eur  wage_eur  \\\n",
      "0     216302    E. García       71         71   1400000.0     10000   \n",
      "1     237867   D. Cancola       65         71   1000000.0      2000   \n",
      "2     253472      E. Kahl       65         77   1600000.0      2000   \n",
      "3     223994    S. Mugoša       72         72   2300000.0      5000   \n",
      "4     251635  A. Țigănașu       65         65    525000.0      3000   \n",
      "...      ...          ...      ...        ...         ...       ...   \n",
      "6890  242007    C. Whelan       59         66    425000.0      2000   \n",
      "6891  187961     Paulinho       83         83  28500000.0     61000   \n",
      "6892  257234   Y. Hamache       70         80   3400000.0      6000   \n",
      "6893  232511    S. Sasaki       71         71   1300000.0      7000   \n",
      "6894  246750    S. Haudum       66         70   1100000.0      4000   \n",
      "\n",
      "     birthday_date  height_cm  weight_kg                  club_name  ...  \\\n",
      "0       1989-12-28        176         73  Club Atlético de San Luis  ...   \n",
      "1       1996-10-23        183         73             Ross County FC  ...   \n",
      "2       2001-09-27        178         69                  Aarhus GF  ...   \n",
      "3       1992-02-26        188         81          Incheon United FC  ...   \n",
      "4       1990-06-12        179         74                FC Botoşani  ...   \n",
      "...            ...        ...        ...                        ...  ...   \n",
      "6890    1997-12-10        180         65            Carlisle United  ...   \n",
      "6891    1988-07-25        183         80                    Al Ahli  ...   \n",
      "6892    1999-07-13        177         73                Boavista FC  ...   \n",
      "6893    1989-10-02        176         70        Sanfrecce Hiroshima  ...   \n",
      "6894    1994-11-27        188         74        SC Rheindorf Altach  ...   \n",
      "\n",
      "     mentality_composure  defending_marking_awareness  \\\n",
      "0                     66                           65   \n",
      "1                     59                           65   \n",
      "2                     65                           60   \n",
      "3                     75                           16   \n",
      "4                     58                           64   \n",
      "...                  ...                          ...   \n",
      "6890                  45                           52   \n",
      "6891                  81                           80   \n",
      "6892                  62                           62   \n",
      "6893                  60                           72   \n",
      "6894                  64                           65   \n",
      "\n",
      "      defending_standing_tackle defending_sliding_tackle  goalkeeping_diving  \\\n",
      "0                            66                       65                  14   \n",
      "1                            61                       58                  10   \n",
      "2                            58                       59                  10   \n",
      "3                            22                       19                  16   \n",
      "4                            61                       58                  12   \n",
      "...                         ...                      ...                 ...   \n",
      "6890                         57                       58                  12   \n",
      "6891                         79                       75                  16   \n",
      "6892                         67                       68                   8   \n",
      "6893                         72                       70                   8   \n",
      "6894                         63                       61                  14   \n",
      "\n",
      "     goalkeeping_handling goalkeeping_kicking  goalkeeping_positioning  \\\n",
      "0                      11                  12                       12   \n",
      "1                      13                   7                        6   \n",
      "2                      10                   8                       10   \n",
      "3                      15                  13                        8   \n",
      "4                       5                  11                       12   \n",
      "...                   ...                 ...                      ...   \n",
      "6890                    9                  10                        8   \n",
      "6891                   16                  11                        6   \n",
      "6892                    9                   5                        8   \n",
      "6893                   10                  10                       10   \n",
      "6894                    9                  11                        9   \n",
      "\n",
      "      goalkeeping_reflexes  position  \n",
      "0                       12        LB  \n",
      "1                       11       LDM  \n",
      "2                       11       LWB  \n",
      "3                        9        LS  \n",
      "4                       15        LB  \n",
      "...                    ...       ...  \n",
      "6890                    13       RCB  \n",
      "6891                     8       LCM  \n",
      "6892                    10       LWB  \n",
      "6893                     8       LCB  \n",
      "6894                     6       RCM  \n",
      "\n",
      "[6895 rows x 66 columns]\n"
     ]
    }
   ],
   "source": [
    "df=remove_columns_with_na(df,80)\n",
    "print(df)\n"
   ]
  },
  {
   "cell_type": "markdown",
   "metadata": {},
   "source": [
    "Preprocessing"
   ]
  },
  {
   "cell_type": "code",
   "execution_count": 4,
   "metadata": {},
   "outputs": [
    {
     "name": "stdout",
     "output_type": "stream",
     "text": [
      "['club_joined', 'player_traits']\n",
      "['value_eur', 'release_clause_eur', 'pace', 'shooting', 'passing', 'dribbling', 'defending', 'physic']\n"
     ]
    }
   ],
   "source": [
    "categorical_columns_na=columns_with_na(df)[0]\n",
    "print(categorical_columns_na)\n",
    "numerical_columns_na=columns_with_na(df)[1]\n",
    "print(numerical_columns_na)\n"
   ]
  },
  {
   "cell_type": "code",
   "execution_count": 5,
   "metadata": {},
   "outputs": [
    {
     "ename": "TypeError",
     "evalue": "can only concatenate str (not \"int\") to str",
     "output_type": "error",
     "traceback": [
      "\u001b[1;31m---------------------------------------------------------------------------\u001b[0m",
      "\u001b[1;31mTypeError\u001b[0m                                 Traceback (most recent call last)",
      "\u001b[1;32mc:\\Users\\julia\\OneDrive\\Documentos\\GitHub\\bse_dsdm\\Notebook\\.ipynb Cell 7\u001b[0m line \u001b[0;36m1\n\u001b[1;32m----> <a href='vscode-notebook-cell:/c%3A/Users/julia/OneDrive/Documentos/GitHub/bse_dsdm/Notebook/.ipynb#W6sZmlsZQ%3D%3D?line=0'>1</a>\u001b[0m df\u001b[39m=\u001b[39mimpute_values(df,numerical_columns_na, impute_type\u001b[39m=\u001b[39;49m\u001b[39m'\u001b[39;49m\u001b[39mmean\u001b[39;49m\u001b[39m'\u001b[39;49m)\n",
      "File \u001b[1;32mc:\\users\\julia\\onedrive\\documentos\\github\\bse_dsdm\\bse_dsdm\\preprocessing\\value_imputer.py:26\u001b[0m, in \u001b[0;36mimpute_values\u001b[1;34m(df, columns_to_impute, impute_type, impute_constant, n_neighbors)\u001b[0m\n\u001b[0;32m     24\u001b[0m     filled_df \u001b[39m=\u001b[39m df\u001b[39m.\u001b[39mfillna(method\u001b[39m=\u001b[39m\u001b[39m'\u001b[39m\u001b[39mbfill\u001b[39m\u001b[39m'\u001b[39m)\n\u001b[0;32m     25\u001b[0m \u001b[39melif\u001b[39;00m impute_type \u001b[39m==\u001b[39m \u001b[39m'\u001b[39m\u001b[39mmean\u001b[39m\u001b[39m'\u001b[39m:\n\u001b[1;32m---> 26\u001b[0m     filled_df \u001b[39m=\u001b[39m df\u001b[39m.\u001b[39mfillna(df\u001b[39m.\u001b[39;49mmean())\n\u001b[0;32m     27\u001b[0m \u001b[39melif\u001b[39;00m impute_type \u001b[39m==\u001b[39m \u001b[39m'\u001b[39m\u001b[39mmode\u001b[39m\u001b[39m'\u001b[39m:\n\u001b[0;32m     28\u001b[0m     filled_df \u001b[39m=\u001b[39m df\u001b[39m.\u001b[39mfillna(df\u001b[39m.\u001b[39mmode())\n",
      "File \u001b[1;32mc:\\Users\\julia\\AppData\\Local\\Programs\\Python\\Python311\\Lib\\site-packages\\pandas\\core\\frame.py:11338\u001b[0m, in \u001b[0;36mDataFrame.mean\u001b[1;34m(self, axis, skipna, numeric_only, **kwargs)\u001b[0m\n\u001b[0;32m  11330\u001b[0m \u001b[39m@doc\u001b[39m(make_doc(\u001b[39m\"\u001b[39m\u001b[39mmean\u001b[39m\u001b[39m\"\u001b[39m, ndim\u001b[39m=\u001b[39m\u001b[39m2\u001b[39m))\n\u001b[0;32m  11331\u001b[0m \u001b[39mdef\u001b[39;00m \u001b[39mmean\u001b[39m(\n\u001b[0;32m  11332\u001b[0m     \u001b[39mself\u001b[39m,\n\u001b[1;32m   (...)\u001b[0m\n\u001b[0;32m  11336\u001b[0m     \u001b[39m*\u001b[39m\u001b[39m*\u001b[39mkwargs,\n\u001b[0;32m  11337\u001b[0m ):\n\u001b[1;32m> 11338\u001b[0m     result \u001b[39m=\u001b[39m \u001b[39msuper\u001b[39;49m()\u001b[39m.\u001b[39;49mmean(axis, skipna, numeric_only, \u001b[39m*\u001b[39;49m\u001b[39m*\u001b[39;49mkwargs)\n\u001b[0;32m  11339\u001b[0m     \u001b[39mif\u001b[39;00m \u001b[39misinstance\u001b[39m(result, Series):\n\u001b[0;32m  11340\u001b[0m         result \u001b[39m=\u001b[39m result\u001b[39m.\u001b[39m__finalize__(\u001b[39mself\u001b[39m, method\u001b[39m=\u001b[39m\u001b[39m\"\u001b[39m\u001b[39mmean\u001b[39m\u001b[39m\"\u001b[39m)\n",
      "File \u001b[1;32mc:\\Users\\julia\\AppData\\Local\\Programs\\Python\\Python311\\Lib\\site-packages\\pandas\\core\\generic.py:11969\u001b[0m, in \u001b[0;36mNDFrame.mean\u001b[1;34m(self, axis, skipna, numeric_only, **kwargs)\u001b[0m\n\u001b[0;32m  11962\u001b[0m \u001b[39mdef\u001b[39;00m \u001b[39mmean\u001b[39m(\n\u001b[0;32m  11963\u001b[0m     \u001b[39mself\u001b[39m,\n\u001b[0;32m  11964\u001b[0m     axis: Axis \u001b[39m|\u001b[39m \u001b[39mNone\u001b[39;00m \u001b[39m=\u001b[39m \u001b[39m0\u001b[39m,\n\u001b[1;32m   (...)\u001b[0m\n\u001b[0;32m  11967\u001b[0m     \u001b[39m*\u001b[39m\u001b[39m*\u001b[39mkwargs,\n\u001b[0;32m  11968\u001b[0m ) \u001b[39m-\u001b[39m\u001b[39m>\u001b[39m Series \u001b[39m|\u001b[39m \u001b[39mfloat\u001b[39m:\n\u001b[1;32m> 11969\u001b[0m     \u001b[39mreturn\u001b[39;00m \u001b[39mself\u001b[39;49m\u001b[39m.\u001b[39;49m_stat_function(\n\u001b[0;32m  11970\u001b[0m         \u001b[39m\"\u001b[39;49m\u001b[39mmean\u001b[39;49m\u001b[39m\"\u001b[39;49m, nanops\u001b[39m.\u001b[39;49mnanmean, axis, skipna, numeric_only, \u001b[39m*\u001b[39;49m\u001b[39m*\u001b[39;49mkwargs\n\u001b[0;32m  11971\u001b[0m     )\n",
      "File \u001b[1;32mc:\\Users\\julia\\AppData\\Local\\Programs\\Python\\Python311\\Lib\\site-packages\\pandas\\core\\generic.py:11926\u001b[0m, in \u001b[0;36mNDFrame._stat_function\u001b[1;34m(self, name, func, axis, skipna, numeric_only, **kwargs)\u001b[0m\n\u001b[0;32m  11922\u001b[0m nv\u001b[39m.\u001b[39mvalidate_func(name, (), kwargs)\n\u001b[0;32m  11924\u001b[0m validate_bool_kwarg(skipna, \u001b[39m\"\u001b[39m\u001b[39mskipna\u001b[39m\u001b[39m\"\u001b[39m, none_allowed\u001b[39m=\u001b[39m\u001b[39mFalse\u001b[39;00m)\n\u001b[1;32m> 11926\u001b[0m \u001b[39mreturn\u001b[39;00m \u001b[39mself\u001b[39;49m\u001b[39m.\u001b[39;49m_reduce(\n\u001b[0;32m  11927\u001b[0m     func, name\u001b[39m=\u001b[39;49mname, axis\u001b[39m=\u001b[39;49maxis, skipna\u001b[39m=\u001b[39;49mskipna, numeric_only\u001b[39m=\u001b[39;49mnumeric_only\n\u001b[0;32m  11928\u001b[0m )\n",
      "File \u001b[1;32mc:\\Users\\julia\\AppData\\Local\\Programs\\Python\\Python311\\Lib\\site-packages\\pandas\\core\\frame.py:11207\u001b[0m, in \u001b[0;36mDataFrame._reduce\u001b[1;34m(self, op, name, axis, skipna, numeric_only, filter_type, **kwds)\u001b[0m\n\u001b[0;32m  11203\u001b[0m     df \u001b[39m=\u001b[39m df\u001b[39m.\u001b[39mT\n\u001b[0;32m  11205\u001b[0m \u001b[39m# After possibly _get_data and transposing, we are now in the\u001b[39;00m\n\u001b[0;32m  11206\u001b[0m \u001b[39m#  simple case where we can use BlockManager.reduce\u001b[39;00m\n\u001b[1;32m> 11207\u001b[0m res \u001b[39m=\u001b[39m df\u001b[39m.\u001b[39;49m_mgr\u001b[39m.\u001b[39;49mreduce(blk_func)\n\u001b[0;32m  11208\u001b[0m out \u001b[39m=\u001b[39m df\u001b[39m.\u001b[39m_constructor_from_mgr(res, axes\u001b[39m=\u001b[39mres\u001b[39m.\u001b[39maxes)\u001b[39m.\u001b[39miloc[\u001b[39m0\u001b[39m]\n\u001b[0;32m  11209\u001b[0m \u001b[39mif\u001b[39;00m out_dtype \u001b[39mis\u001b[39;00m \u001b[39mnot\u001b[39;00m \u001b[39mNone\u001b[39;00m \u001b[39mand\u001b[39;00m out\u001b[39m.\u001b[39mdtype \u001b[39m!=\u001b[39m \u001b[39m\"\u001b[39m\u001b[39mboolean\u001b[39m\u001b[39m\"\u001b[39m:\n",
      "File \u001b[1;32mc:\\Users\\julia\\AppData\\Local\\Programs\\Python\\Python311\\Lib\\site-packages\\pandas\\core\\internals\\managers.py:1459\u001b[0m, in \u001b[0;36mBlockManager.reduce\u001b[1;34m(self, func)\u001b[0m\n\u001b[0;32m   1457\u001b[0m res_blocks: \u001b[39mlist\u001b[39m[Block] \u001b[39m=\u001b[39m []\n\u001b[0;32m   1458\u001b[0m \u001b[39mfor\u001b[39;00m blk \u001b[39min\u001b[39;00m \u001b[39mself\u001b[39m\u001b[39m.\u001b[39mblocks:\n\u001b[1;32m-> 1459\u001b[0m     nbs \u001b[39m=\u001b[39m blk\u001b[39m.\u001b[39;49mreduce(func)\n\u001b[0;32m   1460\u001b[0m     res_blocks\u001b[39m.\u001b[39mextend(nbs)\n\u001b[0;32m   1462\u001b[0m index \u001b[39m=\u001b[39m Index([\u001b[39mNone\u001b[39;00m])  \u001b[39m# placeholder\u001b[39;00m\n",
      "File \u001b[1;32mc:\\Users\\julia\\AppData\\Local\\Programs\\Python\\Python311\\Lib\\site-packages\\pandas\\core\\internals\\blocks.py:377\u001b[0m, in \u001b[0;36mBlock.reduce\u001b[1;34m(self, func)\u001b[0m\n\u001b[0;32m    371\u001b[0m \u001b[39m@final\u001b[39m\n\u001b[0;32m    372\u001b[0m \u001b[39mdef\u001b[39;00m \u001b[39mreduce\u001b[39m(\u001b[39mself\u001b[39m, func) \u001b[39m-\u001b[39m\u001b[39m>\u001b[39m \u001b[39mlist\u001b[39m[Block]:\n\u001b[0;32m    373\u001b[0m     \u001b[39m# We will apply the function and reshape the result into a single-row\u001b[39;00m\n\u001b[0;32m    374\u001b[0m     \u001b[39m#  Block with the same mgr_locs; squeezing will be done at a higher level\u001b[39;00m\n\u001b[0;32m    375\u001b[0m     \u001b[39massert\u001b[39;00m \u001b[39mself\u001b[39m\u001b[39m.\u001b[39mndim \u001b[39m==\u001b[39m \u001b[39m2\u001b[39m\n\u001b[1;32m--> 377\u001b[0m     result \u001b[39m=\u001b[39m func(\u001b[39mself\u001b[39;49m\u001b[39m.\u001b[39;49mvalues)\n\u001b[0;32m    379\u001b[0m     \u001b[39mif\u001b[39;00m \u001b[39mself\u001b[39m\u001b[39m.\u001b[39mvalues\u001b[39m.\u001b[39mndim \u001b[39m==\u001b[39m \u001b[39m1\u001b[39m:\n\u001b[0;32m    380\u001b[0m         res_values \u001b[39m=\u001b[39m result\n",
      "File \u001b[1;32mc:\\Users\\julia\\AppData\\Local\\Programs\\Python\\Python311\\Lib\\site-packages\\pandas\\core\\frame.py:11139\u001b[0m, in \u001b[0;36mDataFrame._reduce.<locals>.blk_func\u001b[1;34m(values, axis)\u001b[0m\n\u001b[0;32m  11137\u001b[0m         \u001b[39mreturn\u001b[39;00m np\u001b[39m.\u001b[39marray([result])\n\u001b[0;32m  11138\u001b[0m \u001b[39melse\u001b[39;00m:\n\u001b[1;32m> 11139\u001b[0m     \u001b[39mreturn\u001b[39;00m op(values, axis\u001b[39m=\u001b[39;49maxis, skipna\u001b[39m=\u001b[39;49mskipna, \u001b[39m*\u001b[39;49m\u001b[39m*\u001b[39;49mkwds)\n",
      "File \u001b[1;32mc:\\Users\\julia\\AppData\\Local\\Programs\\Python\\Python311\\Lib\\site-packages\\pandas\\core\\nanops.py:147\u001b[0m, in \u001b[0;36mbottleneck_switch.__call__.<locals>.f\u001b[1;34m(values, axis, skipna, **kwds)\u001b[0m\n\u001b[0;32m    145\u001b[0m         result \u001b[39m=\u001b[39m alt(values, axis\u001b[39m=\u001b[39maxis, skipna\u001b[39m=\u001b[39mskipna, \u001b[39m*\u001b[39m\u001b[39m*\u001b[39mkwds)\n\u001b[0;32m    146\u001b[0m \u001b[39melse\u001b[39;00m:\n\u001b[1;32m--> 147\u001b[0m     result \u001b[39m=\u001b[39m alt(values, axis\u001b[39m=\u001b[39;49maxis, skipna\u001b[39m=\u001b[39;49mskipna, \u001b[39m*\u001b[39;49m\u001b[39m*\u001b[39;49mkwds)\n\u001b[0;32m    149\u001b[0m \u001b[39mreturn\u001b[39;00m result\n",
      "File \u001b[1;32mc:\\Users\\julia\\AppData\\Local\\Programs\\Python\\Python311\\Lib\\site-packages\\pandas\\core\\nanops.py:404\u001b[0m, in \u001b[0;36m_datetimelike_compat.<locals>.new_func\u001b[1;34m(values, axis, skipna, mask, **kwargs)\u001b[0m\n\u001b[0;32m    401\u001b[0m \u001b[39mif\u001b[39;00m datetimelike \u001b[39mand\u001b[39;00m mask \u001b[39mis\u001b[39;00m \u001b[39mNone\u001b[39;00m:\n\u001b[0;32m    402\u001b[0m     mask \u001b[39m=\u001b[39m isna(values)\n\u001b[1;32m--> 404\u001b[0m result \u001b[39m=\u001b[39m func(values, axis\u001b[39m=\u001b[39;49maxis, skipna\u001b[39m=\u001b[39;49mskipna, mask\u001b[39m=\u001b[39;49mmask, \u001b[39m*\u001b[39;49m\u001b[39m*\u001b[39;49mkwargs)\n\u001b[0;32m    406\u001b[0m \u001b[39mif\u001b[39;00m datetimelike:\n\u001b[0;32m    407\u001b[0m     result \u001b[39m=\u001b[39m _wrap_results(result, orig_values\u001b[39m.\u001b[39mdtype, fill_value\u001b[39m=\u001b[39miNaT)\n",
      "File \u001b[1;32mc:\\Users\\julia\\AppData\\Local\\Programs\\Python\\Python311\\Lib\\site-packages\\pandas\\core\\nanops.py:719\u001b[0m, in \u001b[0;36mnanmean\u001b[1;34m(values, axis, skipna, mask)\u001b[0m\n\u001b[0;32m    716\u001b[0m     dtype_count \u001b[39m=\u001b[39m dtype\n\u001b[0;32m    718\u001b[0m count \u001b[39m=\u001b[39m _get_counts(values\u001b[39m.\u001b[39mshape, mask, axis, dtype\u001b[39m=\u001b[39mdtype_count)\n\u001b[1;32m--> 719\u001b[0m the_sum \u001b[39m=\u001b[39m values\u001b[39m.\u001b[39;49msum(axis, dtype\u001b[39m=\u001b[39;49mdtype_sum)\n\u001b[0;32m    720\u001b[0m the_sum \u001b[39m=\u001b[39m _ensure_numeric(the_sum)\n\u001b[0;32m    722\u001b[0m \u001b[39mif\u001b[39;00m axis \u001b[39mis\u001b[39;00m \u001b[39mnot\u001b[39;00m \u001b[39mNone\u001b[39;00m \u001b[39mand\u001b[39;00m \u001b[39mgetattr\u001b[39m(the_sum, \u001b[39m\"\u001b[39m\u001b[39mndim\u001b[39m\u001b[39m\"\u001b[39m, \u001b[39mFalse\u001b[39;00m):\n",
      "File \u001b[1;32mc:\\Users\\julia\\AppData\\Local\\Programs\\Python\\Python311\\Lib\\site-packages\\numpy\\core\\_methods.py:49\u001b[0m, in \u001b[0;36m_sum\u001b[1;34m(a, axis, dtype, out, keepdims, initial, where)\u001b[0m\n\u001b[0;32m     47\u001b[0m \u001b[39mdef\u001b[39;00m \u001b[39m_sum\u001b[39m(a, axis\u001b[39m=\u001b[39m\u001b[39mNone\u001b[39;00m, dtype\u001b[39m=\u001b[39m\u001b[39mNone\u001b[39;00m, out\u001b[39m=\u001b[39m\u001b[39mNone\u001b[39;00m, keepdims\u001b[39m=\u001b[39m\u001b[39mFalse\u001b[39;00m,\n\u001b[0;32m     48\u001b[0m          initial\u001b[39m=\u001b[39m_NoValue, where\u001b[39m=\u001b[39m\u001b[39mTrue\u001b[39;00m):\n\u001b[1;32m---> 49\u001b[0m     \u001b[39mreturn\u001b[39;00m umr_sum(a, axis, dtype, out, keepdims, initial, where)\n",
      "\u001b[1;31mTypeError\u001b[0m: can only concatenate str (not \"int\") to str"
     ]
    }
   ],
   "source": [
    "df=impute_values(df,numerical_columns_na, impute_type='mean')"
   ]
  },
  {
   "cell_type": "code",
   "execution_count": 7,
   "metadata": {},
   "outputs": [],
   "source": [
    "df=impute_categorical(df,categorical_columns_na)"
   ]
  },
  {
   "cell_type": "code",
   "execution_count": 8,
   "metadata": {},
   "outputs": [],
   "source": [
    "mapping={'work_rate': {'Low/Low': 1, 'Low/Medium': 2, 'Low/High': 3, 'Medium/Low': 4, 'Medium/Medium': 5, 'Medium/High': 6, 'High/Low': 7, 'High/Medium': 8, 'High/High': 9}}\n",
    "\n",
    "df = encode_ordinal_columns(df, columns=['work_rate'], mapping=mapping)"
   ]
  },
  {
   "cell_type": "code",
   "execution_count": 9,
   "metadata": {},
   "outputs": [],
   "source": [
    "df['nationality_name'] = target_encode_column(df, 'nationality_name', 'height_cm', compute_type='mean')"
   ]
  },
  {
   "cell_type": "code",
   "execution_count": 10,
   "metadata": {},
   "outputs": [
    {
     "name": "stderr",
     "output_type": "stream",
     "text": [
      "c:\\Users\\julia\\AppData\\Local\\Programs\\Python\\Python311\\Lib\\site-packages\\sklearn\\preprocessing\\_encoders.py:975: FutureWarning: `sparse` was renamed to `sparse_output` in version 1.2 and will be removed in 1.4. `sparse_output` is ignored unless you leave `sparse` to its default value.\n",
      "  warnings.warn(\n"
     ]
    }
   ],
   "source": [
    "df=encode_categorical_columns(df,column='preferred_foot')"
   ]
  },
  {
   "cell_type": "code",
   "execution_count": 11,
   "metadata": {},
   "outputs": [],
   "source": [
    "df = convert_to_age(df, 'birthday_date',2021)"
   ]
  },
  {
   "cell_type": "code",
   "execution_count": 12,
   "metadata": {},
   "outputs": [],
   "source": [
    "df=extract_string(df,'body_type')"
   ]
  },
  {
   "cell_type": "code",
   "execution_count": 13,
   "metadata": {},
   "outputs": [],
   "source": [
    "split_data(df)\n",
    "test_data,train_data=split_data(df)"
   ]
  },
  {
   "cell_type": "code",
   "execution_count": 14,
   "metadata": {},
   "outputs": [],
   "source": [
    "feature_columns=['attacking_crossing', 'attacking_finishing', 'attacking_heading_accuracy', 'attacking_short_passing', 'attacking_volleys', 'skill_dribbling', 'skill_curve', 'skill_fk_accuracy', 'skill_long_passing', 'skill_ball_control', 'movement_acceleration', 'movement_sprint_speed', 'movement_agility', 'movement_reactions', 'movement_balance', 'power_shot_power', 'power_jumping', 'power_stamina', 'power_strength', 'power_long_shots', 'mentality_aggression', 'mentality_interceptions', 'mentality_positioning', 'mentality_vision', 'mentality_penalties', 'mentality_composure', 'defending_marking_awareness', 'defending_standing_tackle', 'defending_sliding_tackle']\n",
    "target_column=['position']\n",
    "X=df[feature_columns]\n",
    "y=df['position']\n"
   ]
  },
  {
   "cell_type": "code",
   "execution_count": 15,
   "metadata": {},
   "outputs": [
    {
     "name": "stderr",
     "output_type": "stream",
     "text": [
      "c:\\Users\\julia\\AppData\\Local\\Programs\\Python\\Python311\\Lib\\site-packages\\sklearn\\base.py:1152: DataConversionWarning: A column-vector y was passed when a 1d array was expected. Please change the shape of y to (n_samples,), for example using ravel().\n",
      "  return fit_method(estimator, *args, **kwargs)\n"
     ]
    },
    {
     "name": "stdout",
     "output_type": "stream",
     "text": [
      "predictions:['LM' 'RCB' 'LM' ... 'ST' 'RCB' 'GK']\n",
      "Accuracy: 0.3665699782451051\n"
     ]
    }
   ],
   "source": [
    "\n",
    "model = RandomForestModel(feature_columns, target_column, train_data, test_data)\n",
    "model.train()\n",
    "predictions = model.predict()\n",
    "print(f\"predictions:{predictions}\")\n",
    "\n",
    "accuracy = model.get_accuracy(predictions, test_data[target_column])\n",
    "print(f\"Accuracy: {accuracy}\")\n"
   ]
  },
  {
   "cell_type": "code",
   "execution_count": 50,
   "metadata": {},
   "outputs": [],
   "source": [
    "\n",
    "model = RandomForestModel(feature_columns, target_column, train_data, test_data)\n",
    "\n",
    "param_grid = {\n",
    "    'n_estimators': [50, 100, 200],\n",
    "    'max_depth': [None, 10, 20],\n",
    "    'min_samples_split': [2, 5, 10],\n",
    "    'min_samples_leaf': [1, 2, 4],\n",
    "}"
   ]
  },
  {
   "cell_type": "code",
   "execution_count": 55,
   "metadata": {},
   "outputs": [],
   "source": [
    "\n",
    "def evaluate_best_model(model, X_test, y_test):\n",
    "    predictions = model.predict(X_test)\n",
    "    f1 = f1_score(y_test, predictions, average='weighted') \n",
    "    print(\"F1_score:\", f1)\n",
    "    return f1"
   ]
  },
  {
   "cell_type": "code",
   "execution_count": 52,
   "metadata": {},
   "outputs": [
    {
     "name": "stdout",
     "output_type": "stream",
     "text": [
      "Fitting 5 folds for each of 81 candidates, totalling 405 fits\n"
     ]
    },
    {
     "name": "stderr",
     "output_type": "stream",
     "text": [
      "c:\\Users\\julia\\AppData\\Local\\Programs\\Python\\Python311\\Lib\\site-packages\\sklearn\\base.py:1152: DataConversionWarning: A column-vector y was passed when a 1d array was expected. Please change the shape of y to (n_samples,), for example using ravel().\n",
      "  return fit_method(estimator, *args, **kwargs)\n"
     ]
    },
    {
     "name": "stdout",
     "output_type": "stream",
     "text": [
      "Best Hyperparameters: {'max_depth': None, 'min_samples_leaf': 1, 'min_samples_split': 10, 'n_estimators': 200}\n",
      "Best Accuracy: 0.3872490118577075\n",
      "Test Accuracy with Best Hyperparameters: 0.36276287164612037\n"
     ]
    }
   ],
   "source": [
    "\n",
    "model = RandomForestModel(feature_columns, target_column, train_data, test_data)\n",
    "\n",
    "param_grid = {\n",
    "    'n_estimators': [50, 100, 200],\n",
    "    'max_depth': [None, 10, 20],\n",
    "    'min_samples_split': [2, 5, 10],\n",
    "    'min_samples_leaf': [1, 2, 4],\n",
    "}\n",
    "\n",
    "\n",
    "best_model = perform_grid_search(model, param_grid)\n"
   ]
  },
  {
   "cell_type": "code",
   "execution_count": 56,
   "metadata": {},
   "outputs": [
    {
     "name": "stdout",
     "output_type": "stream",
     "text": [
      "F1_score: 0.3196409354821298\n"
     ]
    }
   ],
   "source": [
    "f1= evaluate_best_model(best_model, model.test_data[model.feature_columns], model.test_data[model.target_column])"
   ]
  }
 ],
 "metadata": {
  "kernelspec": {
   "display_name": "Python 3",
   "language": "python",
   "name": "python3"
  },
  "language_info": {
   "codemirror_mode": {
    "name": "ipython",
    "version": 3
   },
   "file_extension": ".py",
   "mimetype": "text/x-python",
   "name": "python",
   "nbconvert_exporter": "python",
   "pygments_lexer": "ipython3",
   "version": "3.11.5"
  }
 },
 "nbformat": 4,
 "nbformat_minor": 2
}
