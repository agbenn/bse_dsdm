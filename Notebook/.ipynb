{
 "cells": [
  {
   "cell_type": "code",
   "execution_count": 10,
   "metadata": {},
   "outputs": [],
   "source": [
    "from bse_dsdm.preprocessing.feature_scaling import *\n",
    "from bse_dsdm.preprocessing.outlier_detection import *\n",
    "from bse_dsdm.preprocessing.value_encoder import *\n",
    "from bse_dsdm.preprocessing.value_imputer import *\n",
    "from bse_dsdm.preprocessing.load_data import *\n",
    "import pandas as pd\n",
    "from sklearn.model_selection import train_test_split"
   ]
  },
  {
   "cell_type": "code",
   "execution_count": 17,
   "metadata": {},
   "outputs": [
    {
     "ename": "TypeError",
     "evalue": "Split_data() takes no arguments",
     "output_type": "error",
     "traceback": [
      "\u001b[1;31m---------------------------------------------------------------------------\u001b[0m",
      "\u001b[1;31mTypeError\u001b[0m                                 Traceback (most recent call last)",
      "\u001b[1;32mc:\\Users\\julia\\OneDrive\\Documentos\\GitHub\\bse_dsdm\\Notebook\\.ipynb Cell 2\u001b[0m line \u001b[0;36m7\n\u001b[0;32m      <a href='vscode-notebook-cell:/c%3A/Users/julia/OneDrive/Documentos/GitHub/bse_dsdm/Notebook/.ipynb#W2sZmlsZQ%3D%3D?line=3'>4</a>\u001b[0m data_file_path \u001b[39m=\u001b[39m \u001b[39mr\u001b[39m\u001b[39m\"\u001b[39m\u001b[39mC:\u001b[39m\u001b[39m\\\u001b[39m\u001b[39mUsers\u001b[39m\u001b[39m\\\u001b[39m\u001b[39mjulia\u001b[39m\u001b[39m\\\u001b[39m\u001b[39mOneDrive\u001b[39m\u001b[39m\\\u001b[39m\u001b[39mDocumentos\u001b[39m\u001b[39m\\\u001b[39m\u001b[39mGitHub\u001b[39m\u001b[39m\\\u001b[39m\u001b[39mbse_dsdm\u001b[39m\u001b[39m\\\u001b[39m\u001b[39mtrain.csv\u001b[39m\u001b[39m\"\u001b[39m\n\u001b[0;32m      <a href='vscode-notebook-cell:/c%3A/Users/julia/OneDrive/Documentos/GitHub/bse_dsdm/Notebook/.ipynb#W2sZmlsZQ%3D%3D?line=5'>6</a>\u001b[0m \u001b[39m# Create an instance of DataLoader\u001b[39;00m\n\u001b[1;32m----> <a href='vscode-notebook-cell:/c%3A/Users/julia/OneDrive/Documentos/GitHub/bse_dsdm/Notebook/.ipynb#W2sZmlsZQ%3D%3D?line=6'>7</a>\u001b[0m data_loader \u001b[39m=\u001b[39m Split_data(file_path\u001b[39m=\u001b[39;49mdata_file_path, test_size\u001b[39m=\u001b[39;49m\u001b[39m0.2\u001b[39;49m, random_state\u001b[39m=\u001b[39;49m\u001b[39m42\u001b[39;49m)\n\u001b[0;32m      <a href='vscode-notebook-cell:/c%3A/Users/julia/OneDrive/Documentos/GitHub/bse_dsdm/Notebook/.ipynb#W2sZmlsZQ%3D%3D?line=8'>9</a>\u001b[0m \u001b[39m# Load the data\u001b[39;00m\n\u001b[0;32m     <a href='vscode-notebook-cell:/c%3A/Users/julia/OneDrive/Documentos/GitHub/bse_dsdm/Notebook/.ipynb#W2sZmlsZQ%3D%3D?line=9'>10</a>\u001b[0m data_loader\u001b[39m.\u001b[39mload_data()\n",
      "\u001b[1;31mTypeError\u001b[0m: Split_data() takes no arguments"
     ]
    }
   ],
   "source": [
    "#Create a class with a primary method that loads the data and returns two dataframes, one for\n",
    "#train and another for test. Internally, the class can use the function defined in hw5.\n",
    "#hw4/library_hw4/sample_diabetes_mellitus_data - sample_diabetes_mellitus_data.csv\n",
    "data_file_path = r\"C:\\Users\\julia\\OneDrive\\Documentos\\GitHub\\bse_dsdm\\train.csv\"\n",
    "\n",
    "# Create an instance of DataLoader\n",
    "data_loader = Split_data(file_path=data_file_path, test_size=0.2, random_state=42)\n",
    "\n",
    "# Load the data\n",
    "data_loader.load_data()\n",
    "\n",
    "# Get the train and test dataframes\n",
    "train_df = data_loader.get_train_data()\n",
    "test_df = data_loader.get_test_data()\n",
    "\n",
    "print(train_df)\n",
    "print(test_df)"
   ]
  }
 ],
 "metadata": {
  "kernelspec": {
   "display_name": "Python 3",
   "language": "python",
   "name": "python3"
  },
  "language_info": {
   "codemirror_mode": {
    "name": "ipython",
    "version": 3
   },
   "file_extension": ".py",
   "mimetype": "text/x-python",
   "name": "python",
   "nbconvert_exporter": "python",
   "pygments_lexer": "ipython3",
   "version": "3.11.5"
  }
 },
 "nbformat": 4,
 "nbformat_minor": 2
}
