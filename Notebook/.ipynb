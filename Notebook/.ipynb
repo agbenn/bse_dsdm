{
 "cells": [
  {
   "cell_type": "code",
   "execution_count": 7,
   "metadata": {},
   "outputs": [],
   "source": [
    "from bse_dsdm.preprocessing.feature_scaling import *\n",
    "#from bse_dsdm.preprocessing.outlier_detection import *\n",
    "from bse_dsdm.preprocessing.optimal_outlier_detection import *\n",
    "from bse_dsdm.preprocessing.value_encoder import *\n",
    "from bse_dsdm.preprocessing.value_imputer import *\n",
    "from bse_dsdm.preprocessing.data_loader import *\n",
    "from bse_dsdm.preprocessing.preprocessing_functions import *\n",
    "from bse_dsdm.preprocessing.exploratory_analysis import *\n",
    "from bse_dsdm.accuracy_testing.cross_validation import *\n",
    "import pandas as pd\n",
    "from sklearn.model_selection import train_test_split\n",
    "from abc import ABC, abstractmethod\n",
    "import pandas as pd\n",
    "from datetime import datetime\n",
    "from sklearn.ensemble import RandomForestClassifier\n",
    "from sklearn.metrics import roc_auc_score\n",
    "import pandas as pd\n",
    "from sklearn.model_selection import train_test_split\n",
    "from sklearn.metrics import accuracy_score, f1_score, roc_auc_score, roc_curve, auc\n",
    "from sklearn.model_selection import GridSearchCV"
   ]
  },
  {
   "cell_type": "markdown",
   "metadata": {},
   "source": [
    "LOAD DATA"
   ]
  },
  {
   "cell_type": "code",
   "execution_count": 2,
   "metadata": {},
   "outputs": [],
   "source": [
    "data=MLDataLoader()\n",
    "data.load_data(\"../bse_dsdm/data/train.csv\")\n"
   ]
  },
  {
   "cell_type": "code",
   "execution_count": 3,
   "metadata": {},
   "outputs": [],
   "source": [
    "data.data=remove_columns_with_na(data.data,80)\n"
   ]
  },
  {
   "cell_type": "code",
   "execution_count": 4,
   "metadata": {},
   "outputs": [
    {
     "data": {
      "text/html": [
       "<div>\n",
       "<style scoped>\n",
       "    .dataframe tbody tr th:only-of-type {\n",
       "        vertical-align: middle;\n",
       "    }\n",
       "\n",
       "    .dataframe tbody tr th {\n",
       "        vertical-align: top;\n",
       "    }\n",
       "\n",
       "    .dataframe thead th {\n",
       "        text-align: right;\n",
       "    }\n",
       "</style>\n",
       "<table border=\"1\" class=\"dataframe\">\n",
       "  <thead>\n",
       "    <tr style=\"text-align: right;\">\n",
       "      <th></th>\n",
       "      <th>id</th>\n",
       "      <th>num_rooms</th>\n",
       "      <th>num_baths</th>\n",
       "      <th>square_meters</th>\n",
       "      <th>orientation</th>\n",
       "      <th>year_built</th>\n",
       "      <th>door</th>\n",
       "      <th>is_furnished</th>\n",
       "      <th>has_pool</th>\n",
       "      <th>neighborhood</th>\n",
       "      <th>num_crimes</th>\n",
       "      <th>has_ac</th>\n",
       "      <th>accepts_pets</th>\n",
       "      <th>price</th>\n",
       "    </tr>\n",
       "  </thead>\n",
       "  <tbody>\n",
       "    <tr>\n",
       "      <th>0</th>\n",
       "      <td>9255</td>\n",
       "      <td>1.0</td>\n",
       "      <td>1.0</td>\n",
       "      <td>NaN</td>\n",
       "      <td>NaN</td>\n",
       "      <td>1956.0</td>\n",
       "      <td>3º - 1a</td>\n",
       "      <td>False</td>\n",
       "      <td>False</td>\n",
       "      <td>Sant Martí</td>\n",
       "      <td>2.0</td>\n",
       "      <td>True</td>\n",
       "      <td>True</td>\n",
       "      <td>1096</td>\n",
       "    </tr>\n",
       "    <tr>\n",
       "      <th>1</th>\n",
       "      <td>1562</td>\n",
       "      <td>4.0</td>\n",
       "      <td>1.0</td>\n",
       "      <td>133.0</td>\n",
       "      <td>west</td>\n",
       "      <td>1960.0</td>\n",
       "      <td>7º - 2a</td>\n",
       "      <td>False</td>\n",
       "      <td>False</td>\n",
       "      <td>Sants</td>\n",
       "      <td>4.0</td>\n",
       "      <td>False</td>\n",
       "      <td>False</td>\n",
       "      <td>1396</td>\n",
       "    </tr>\n",
       "    <tr>\n",
       "      <th>2</th>\n",
       "      <td>1671</td>\n",
       "      <td>2.0</td>\n",
       "      <td>3.0</td>\n",
       "      <td>137.0</td>\n",
       "      <td>NaN</td>\n",
       "      <td>2000.0</td>\n",
       "      <td>1º - 1a</td>\n",
       "      <td>False</td>\n",
       "      <td>True</td>\n",
       "      <td>Eixample</td>\n",
       "      <td>0.0</td>\n",
       "      <td>False</td>\n",
       "      <td>False</td>\n",
       "      <td>1263</td>\n",
       "    </tr>\n",
       "    <tr>\n",
       "      <th>3</th>\n",
       "      <td>6088</td>\n",
       "      <td>1.0</td>\n",
       "      <td>2.0</td>\n",
       "      <td>-41.0</td>\n",
       "      <td>NaN</td>\n",
       "      <td>2002.0</td>\n",
       "      <td>6º - 1a</td>\n",
       "      <td>False</td>\n",
       "      <td>True</td>\n",
       "      <td>Sants</td>\n",
       "      <td>5.0</td>\n",
       "      <td>False</td>\n",
       "      <td>False</td>\n",
       "      <td>1290</td>\n",
       "    </tr>\n",
       "    <tr>\n",
       "      <th>4</th>\n",
       "      <td>6670</td>\n",
       "      <td>2.0</td>\n",
       "      <td>1.0</td>\n",
       "      <td>70.0</td>\n",
       "      <td>NaN</td>\n",
       "      <td>1979.0</td>\n",
       "      <td>5º - 1a</td>\n",
       "      <td>True</td>\n",
       "      <td>False</td>\n",
       "      <td>Gràcia</td>\n",
       "      <td>0.0</td>\n",
       "      <td>False</td>\n",
       "      <td>True</td>\n",
       "      <td>962</td>\n",
       "    </tr>\n",
       "    <tr>\n",
       "      <th>...</th>\n",
       "      <td>...</td>\n",
       "      <td>...</td>\n",
       "      <td>...</td>\n",
       "      <td>...</td>\n",
       "      <td>...</td>\n",
       "      <td>...</td>\n",
       "      <td>...</td>\n",
       "      <td>...</td>\n",
       "      <td>...</td>\n",
       "      <td>...</td>\n",
       "      <td>...</td>\n",
       "      <td>...</td>\n",
       "      <td>...</td>\n",
       "      <td>...</td>\n",
       "    </tr>\n",
       "    <tr>\n",
       "      <th>7995</th>\n",
       "      <td>5735</td>\n",
       "      <td>2.0</td>\n",
       "      <td>NaN</td>\n",
       "      <td>95.0</td>\n",
       "      <td>south</td>\n",
       "      <td>2021.0</td>\n",
       "      <td>9º - 1a</td>\n",
       "      <td>False</td>\n",
       "      <td>False</td>\n",
       "      <td>Sant Martí</td>\n",
       "      <td>0.0</td>\n",
       "      <td>False</td>\n",
       "      <td>False</td>\n",
       "      <td>1066</td>\n",
       "    </tr>\n",
       "    <tr>\n",
       "      <th>7996</th>\n",
       "      <td>5192</td>\n",
       "      <td>4.0</td>\n",
       "      <td>3.0</td>\n",
       "      <td>166.0</td>\n",
       "      <td>NaN</td>\n",
       "      <td>1995.0</td>\n",
       "      <td>9º - 4a</td>\n",
       "      <td>False</td>\n",
       "      <td>False</td>\n",
       "      <td>Nou Barris</td>\n",
       "      <td>9.0</td>\n",
       "      <td>False</td>\n",
       "      <td>False</td>\n",
       "      <td>1255</td>\n",
       "    </tr>\n",
       "    <tr>\n",
       "      <th>7997</th>\n",
       "      <td>5391</td>\n",
       "      <td>4.0</td>\n",
       "      <td>1.0</td>\n",
       "      <td>89.0</td>\n",
       "      <td>east</td>\n",
       "      <td>2015.0</td>\n",
       "      <td>9º - 3a</td>\n",
       "      <td>True</td>\n",
       "      <td>False</td>\n",
       "      <td>Sant Martí</td>\n",
       "      <td>0.0</td>\n",
       "      <td>True</td>\n",
       "      <td>False</td>\n",
       "      <td>1220</td>\n",
       "    </tr>\n",
       "    <tr>\n",
       "      <th>7998</th>\n",
       "      <td>861</td>\n",
       "      <td>4.0</td>\n",
       "      <td>2.0</td>\n",
       "      <td>167.0</td>\n",
       "      <td>west</td>\n",
       "      <td>1977.0</td>\n",
       "      <td>8º - 4a</td>\n",
       "      <td>False</td>\n",
       "      <td>True</td>\n",
       "      <td>Gràcia</td>\n",
       "      <td>0.0</td>\n",
       "      <td>True</td>\n",
       "      <td>False</td>\n",
       "      <td>1547</td>\n",
       "    </tr>\n",
       "    <tr>\n",
       "      <th>7999</th>\n",
       "      <td>7271</td>\n",
       "      <td>2.0</td>\n",
       "      <td>1.0</td>\n",
       "      <td>95.0</td>\n",
       "      <td>NaN</td>\n",
       "      <td>2000.0</td>\n",
       "      <td>1º - 4a</td>\n",
       "      <td>False</td>\n",
       "      <td>True</td>\n",
       "      <td>Nou Barris</td>\n",
       "      <td>8.0</td>\n",
       "      <td>True</td>\n",
       "      <td>False</td>\n",
       "      <td>1133</td>\n",
       "    </tr>\n",
       "  </tbody>\n",
       "</table>\n",
       "<p>8000 rows × 14 columns</p>\n",
       "</div>"
      ],
      "text/plain": [
       "        id  num_rooms  num_baths  square_meters orientation  year_built  \\\n",
       "0     9255        1.0        1.0            NaN         NaN      1956.0   \n",
       "1     1562        4.0        1.0          133.0        west      1960.0   \n",
       "2     1671        2.0        3.0          137.0         NaN      2000.0   \n",
       "3     6088        1.0        2.0          -41.0         NaN      2002.0   \n",
       "4     6670        2.0        1.0           70.0         NaN      1979.0   \n",
       "...    ...        ...        ...            ...         ...         ...   \n",
       "7995  5735        2.0        NaN           95.0       south      2021.0   \n",
       "7996  5192        4.0        3.0          166.0         NaN      1995.0   \n",
       "7997  5391        4.0        1.0           89.0        east      2015.0   \n",
       "7998   861        4.0        2.0          167.0        west      1977.0   \n",
       "7999  7271        2.0        1.0           95.0         NaN      2000.0   \n",
       "\n",
       "         door is_furnished has_pool neighborhood  num_crimes has_ac  \\\n",
       "0     3º - 1a        False    False   Sant Martí         2.0   True   \n",
       "1     7º - 2a        False    False        Sants         4.0  False   \n",
       "2     1º - 1a        False     True     Eixample         0.0  False   \n",
       "3     6º - 1a        False     True        Sants         5.0  False   \n",
       "4     5º - 1a         True    False       Gràcia         0.0  False   \n",
       "...       ...          ...      ...          ...         ...    ...   \n",
       "7995  9º - 1a        False    False   Sant Martí         0.0  False   \n",
       "7996  9º - 4a        False    False   Nou Barris         9.0  False   \n",
       "7997  9º - 3a         True    False   Sant Martí         0.0   True   \n",
       "7998  8º - 4a        False     True       Gràcia         0.0   True   \n",
       "7999  1º - 4a        False     True   Nou Barris         8.0   True   \n",
       "\n",
       "     accepts_pets  price  \n",
       "0            True   1096  \n",
       "1           False   1396  \n",
       "2           False   1263  \n",
       "3           False   1290  \n",
       "4            True    962  \n",
       "...           ...    ...  \n",
       "7995        False   1066  \n",
       "7996        False   1255  \n",
       "7997        False   1220  \n",
       "7998        False   1547  \n",
       "7999        False   1133  \n",
       "\n",
       "[8000 rows x 14 columns]"
      ]
     },
     "execution_count": 4,
     "metadata": {},
     "output_type": "execute_result"
    }
   ],
   "source": [
    "data.data"
   ]
  },
  {
   "cell_type": "markdown",
   "metadata": {},
   "source": [
    "Preprocessing"
   ]
  },
  {
   "cell_type": "code",
   "execution_count": 5,
   "metadata": {},
   "outputs": [
    {
     "name": "stdout",
     "output_type": "stream",
     "text": [
      "Index(['orientation', 'door', 'is_furnished', 'has_pool', 'neighborhood',\n",
      "       'has_ac', 'accepts_pets'],\n",
      "      dtype='object')\n",
      "Index(['id', 'num_rooms', 'num_baths', 'square_meters', 'year_built',\n",
      "       'num_crimes', 'price'],\n",
      "      dtype='object')\n"
     ]
    }
   ],
   "source": [
    "categorical_columns_na=get_columns_by_type(data.data)[0]\n",
    "print(categorical_columns_na)\n",
    "numerical_columns_na=get_columns_by_type(data.data)[1]\n",
    "print(numerical_columns_na)\n"
   ]
  },
  {
   "cell_type": "code",
   "execution_count": 6,
   "metadata": {},
   "outputs": [],
   "source": [
    "X = data.data[['num_rooms', 'num_baths', 'square_meters',\n",
    "       'num_crimes']]\n",
    "y = data.data['price']"
   ]
  },
  {
   "cell_type": "code",
   "execution_count": 8,
   "metadata": {},
   "outputs": [
    {
     "ename": "TypeError",
     "evalue": "'float' object cannot be interpreted as an integer",
     "output_type": "error",
     "traceback": [
      "\u001b[0;31m---------------------------------------------------------------------------\u001b[0m",
      "\u001b[0;31mTypeError\u001b[0m                                 Traceback (most recent call last)",
      "\u001b[1;32m/Users/andrewbennett/Documents/bse/machine_learning/bse_dsdm/Notebook/.ipynb Cell 9\u001b[0m line \u001b[0;36m1\n\u001b[0;32m----> <a href='vscode-notebook-cell:/Users/andrewbennett/Documents/bse/machine_learning/bse_dsdm/Notebook/.ipynb#X33sZmlsZQ%3D%3D?line=0'>1</a>\u001b[0m remove_outliers(X,y,\u001b[39m'\u001b[39m\u001b[39mregression\u001b[39m\u001b[39m'\u001b[39m, removal_type\u001b[39m=\u001b[39m\u001b[39m'\u001b[39m\u001b[39mmin_covariance\u001b[39m\u001b[39m'\u001b[39m)\n",
      "File \u001b[0;32m~/Documents/bse/machine_learning/bse_dsdm/bse_dsdm/preprocessing/optimal_outlier_detection.py:29\u001b[0m, in \u001b[0;36mremove_outliers\u001b[0;34m(X, y, model_type, accuracy_test, removal_type, param_grid)\u001b[0m\n\u001b[1;32m     12\u001b[0m \u001b[39mdef\u001b[39;00m \u001b[39mremove_outliers\u001b[39m(X, y, model_type, accuracy_test\u001b[39m=\u001b[39m\u001b[39m'\u001b[39m\u001b[39maccuracy\u001b[39m\u001b[39m'\u001b[39m, removal_type\u001b[39m=\u001b[39m\u001b[39m\"\u001b[39m\u001b[39mstd\u001b[39m\u001b[39m\"\u001b[39m, param_grid\u001b[39m=\u001b[39m\u001b[39mNone\u001b[39;00m):\n\u001b[1;32m     13\u001b[0m \u001b[39m    \u001b[39m\u001b[39m\"\"\"\u001b[39;00m\n\u001b[1;32m     14\u001b[0m \n\u001b[1;32m     15\u001b[0m \u001b[39m    Parameters:\u001b[39;00m\n\u001b[1;32m     16\u001b[0m \u001b[39m    - X (DataFrame): Features.\u001b[39;00m\n\u001b[1;32m     17\u001b[0m \u001b[39m    - y (Series): Target variable.\u001b[39;00m\n\u001b[1;32m     18\u001b[0m \u001b[39m    - model_type (str): Type of model ('binary', 'multiclass', 'regression').\u001b[39;00m\n\u001b[1;32m     19\u001b[0m \u001b[39m    - accuracy_test (str): Scoring metric for model evaluation (default is 'accuracy').\u001b[39;00m\n\u001b[1;32m     20\u001b[0m \u001b[39m    - removal_type (str): Type of outlier removal method ('std', 'iqr', 'iso_forest', 'min_covariance', 'local_outlier', 'svm').\u001b[39;00m\n\u001b[1;32m     21\u001b[0m \u001b[39m    - param_grid (dict): Dictionary specifying the range of parameter values for each removal method (default is None).\u001b[39;00m\n\u001b[1;32m     22\u001b[0m \n\u001b[1;32m     23\u001b[0m \u001b[39m    Returns:\u001b[39;00m\n\u001b[1;32m     24\u001b[0m \u001b[39m    - Tuple: DataFrame with outliers removed, dictionary with optimal accuracy score and parameter value.\u001b[39;00m\n\u001b[1;32m     25\u001b[0m \n\u001b[1;32m     26\u001b[0m \u001b[39m    decrease iqr to increase outlier removal\u001b[39;00m\n\u001b[1;32m     27\u001b[0m \u001b[39m    increase cov_contamination to increase outlier removal\u001b[39;00m\n\u001b[1;32m     28\u001b[0m \u001b[39m    decrease std_threshold to increase outlier removal\u001b[39;00m\n\u001b[0;32m---> 29\u001b[0m \u001b[39m    local_n_neighbors depends on the sample size\u001b[39;00m\n\u001b[1;32m     30\u001b[0m \u001b[39m    \"\"\"\u001b[39;00m\n\u001b[1;32m     31\u001b[0m     model \u001b[39m=\u001b[39m \u001b[39mNone\u001b[39;00m\n\u001b[1;32m     32\u001b[0m     \u001b[39mif\u001b[39;00m model_type \u001b[39min\u001b[39;00m [\u001b[39m'\u001b[39m\u001b[39mbinary\u001b[39m\u001b[39m'\u001b[39m,\u001b[39m'\u001b[39m\u001b[39mmulticlass\u001b[39m\u001b[39m'\u001b[39m]:  \u001b[39m# Binary / Multiclass Classification \u001b[39;00m\n",
      "\u001b[0;31mTypeError\u001b[0m: 'float' object cannot be interpreted as an integer"
     ]
    }
   ],
   "source": [
    "remove_outliers(X,y,model_type='linear_regression', removal_type='min_covariance')"
   ]
  },
  {
   "cell_type": "code",
   "execution_count": 5,
   "metadata": {},
   "outputs": [],
   "source": [
    "data.data=impute_values(data.data,numerical_columns_na, impute_type='mean')"
   ]
  },
  {
   "cell_type": "code",
   "execution_count": 6,
   "metadata": {},
   "outputs": [],
   "source": [
    "data.data=impute_categorical(data.data,categorical_columns_na)"
   ]
  },
  {
   "cell_type": "code",
   "execution_count": 7,
   "metadata": {},
   "outputs": [],
   "source": [
    "mapping={'work_rate': {'Low/Low': 1, 'Low/Medium': 2, 'Low/High': 3, 'Medium/Low': 4, 'Medium/Medium': 5, 'Medium/High': 6, 'High/Low': 7, 'High/Medium': 8, 'High/High': 9}}\n",
    "\n",
    "data.data = encode_ordinal_columns(data.data, columns=['work_rate'], mapping=mapping)"
   ]
  },
  {
   "cell_type": "code",
   "execution_count": 8,
   "metadata": {},
   "outputs": [],
   "source": [
    "data.data['nationality_name'] = target_encode_column(data.data, 'nationality_name', 'height_cm', compute_type='mean')"
   ]
  },
  {
   "cell_type": "code",
   "execution_count": 9,
   "metadata": {},
   "outputs": [
    {
     "name": "stderr",
     "output_type": "stream",
     "text": [
      "c:\\Users\\julia\\AppData\\Local\\Programs\\Python\\Python311\\Lib\\site-packages\\sklearn\\preprocessing\\_encoders.py:975: FutureWarning: `sparse` was renamed to `sparse_output` in version 1.2 and will be removed in 1.4. `sparse_output` is ignored unless you leave `sparse` to its default value.\n",
      "  warnings.warn(\n"
     ]
    }
   ],
   "source": [
    "data.data=encode_categorical_columns(data.data,column='preferred_foot')"
   ]
  },
  {
   "cell_type": "code",
   "execution_count": 10,
   "metadata": {},
   "outputs": [],
   "source": [
    "data.data = convert_to_age(data.data, 'birthday_date',2021)"
   ]
  },
  {
   "cell_type": "code",
   "execution_count": 11,
   "metadata": {},
   "outputs": [],
   "source": [
    "data.data=extract_string(data.data,'body_type')"
   ]
  },
  {
   "cell_type": "code",
   "execution_count": 12,
   "metadata": {},
   "outputs": [],
   "source": [
    "data.split_data()\n"
   ]
  },
  {
   "cell_type": "code",
   "execution_count": 13,
   "metadata": {},
   "outputs": [],
   "source": [
    "feature_columns=['attacking_crossing', 'attacking_finishing', 'attacking_heading_accuracy', 'attacking_short_passing', 'attacking_volleys', 'skill_dribbling', 'skill_curve', 'skill_fk_accuracy', 'skill_long_passing', 'skill_ball_control', 'movement_acceleration', 'movement_sprint_speed', 'movement_agility', 'movement_reactions', 'movement_balance', 'power_shot_power', 'power_jumping', 'power_stamina', 'power_strength', 'power_long_shots', 'mentality_aggression', 'mentality_interceptions', 'mentality_positioning', 'mentality_vision', 'mentality_penalties', 'mentality_composure', 'defending_marking_awareness', 'defending_standing_tackle', 'defending_sliding_tackle']\n",
    "target_column=['position']\n",
    "X=data.data[feature_columns]\n",
    "y=data.data['position']\n"
   ]
  },
  {
   "cell_type": "code",
   "execution_count": 15,
   "metadata": {},
   "outputs": [
    {
     "name": "stderr",
     "output_type": "stream",
     "text": [
      "c:\\Users\\julia\\AppData\\Local\\Programs\\Python\\Python311\\Lib\\site-packages\\sklearn\\base.py:1152: DataConversionWarning: A column-vector y was passed when a 1d array was expected. Please change the shape of y to (n_samples,), for example using ravel().\n",
      "  return fit_method(estimator, *args, **kwargs)\n"
     ]
    },
    {
     "name": "stdout",
     "output_type": "stream",
     "text": [
      "predictions:['LCM' 'RCB' 'LCB' ... 'RCM' 'ST' 'GK']\n",
      "Accuracy: 0.3836113125453227\n"
     ]
    }
   ],
   "source": [
    "\n",
    "model = RandomForestModel(feature_columns, target_column, data.train_data, data.test_data)\n",
    "model.train()\n",
    "predictions = model.predict()\n",
    "print(f\"predictions:{predictions}\")\n",
    "\n",
    "accuracy = model.get_accuracy(predictions, data.test_data[target_column])\n",
    "print(f\"Accuracy: {accuracy}\")\n"
   ]
  },
  {
   "cell_type": "code",
   "execution_count": 16,
   "metadata": {},
   "outputs": [],
   "source": [
    "\n",
    "model = RandomForestModel(feature_columns, target_column, data.train_data, data.test_data)\n",
    "\n",
    "param_grid = {\n",
    "    'n_estimators': [50, 100, 200],\n",
    "    'max_depth': [None, 10, 20],\n",
    "    'min_samples_split': [2, 5, 10],\n",
    "    'min_samples_leaf': [1, 2, 4],\n",
    "}"
   ]
  },
  {
   "cell_type": "code",
   "execution_count": 17,
   "metadata": {},
   "outputs": [
    {
     "name": "stdout",
     "output_type": "stream",
     "text": [
      "Fitting 5 folds for each of 81 candidates, totalling 405 fits\n"
     ]
    },
    {
     "name": "stderr",
     "output_type": "stream",
     "text": [
      "c:\\Users\\julia\\AppData\\Local\\Programs\\Python\\Python311\\Lib\\site-packages\\sklearn\\base.py:1152: DataConversionWarning: A column-vector y was passed when a 1d array was expected. Please change the shape of y to (n_samples,), for example using ravel().\n",
      "  return fit_method(estimator, *args, **kwargs)\n"
     ]
    },
    {
     "name": "stdout",
     "output_type": "stream",
     "text": [
      "Best Hyperparameters: {'max_depth': 10, 'min_samples_leaf': 4, 'min_samples_split': 2, 'n_estimators': 200}\n",
      "Best Accuracy: 0.3839735503961528\n",
      "Test Accuracy with Best Hyperparameters: 0.38578680203045684\n"
     ]
    }
   ],
   "source": [
    "\n",
    "model = RandomForestModel(feature_columns, target_column, data.train_data, data.test_data)\n",
    "\n",
    "param_grid = {\n",
    "    'n_estimators': [50, 100, 200],\n",
    "    'max_depth': [None, 10, 20],\n",
    "    'min_samples_split': [2, 5, 10],\n",
    "    'min_samples_leaf': [1, 2, 4],\n",
    "}\n",
    "\n",
    "\n",
    "best_model = perform_grid_search(model, param_grid)\n"
   ]
  },
  {
   "cell_type": "code",
   "execution_count": 18,
   "metadata": {},
   "outputs": [
    {
     "name": "stdout",
     "output_type": "stream",
     "text": [
      "F1_score: 0.3319270978573035\n"
     ]
    }
   ],
   "source": [
    "f1= evaluate_best_model(best_model, model.test_data[model.feature_columns], model.test_data[model.target_column])"
   ]
  },
  {
   "cell_type": "code",
   "execution_count": null,
   "metadata": {},
   "outputs": [],
   "source": []
  }
 ],
 "metadata": {
  "kernelspec": {
   "display_name": "Python 3",
   "language": "python",
   "name": "python3"
  },
  "language_info": {
   "codemirror_mode": {
    "name": "ipython",
    "version": 3
   },
   "file_extension": ".py",
   "mimetype": "text/x-python",
   "name": "python",
   "nbconvert_exporter": "python",
   "pygments_lexer": "ipython3",
   "version": "3.11.4"
  }
 },
 "nbformat": 4,
 "nbformat_minor": 2
}
