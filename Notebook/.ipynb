{
 "cells": [
  {
   "cell_type": "code",
   "execution_count": 76,
   "metadata": {},
   "outputs": [],
   "source": [
    "from bse_dsdm.preprocessing.feature_scaling import *\n",
    "from bse_dsdm.preprocessing.outlier_detection import *\n",
    "from bse_dsdm.preprocessing.value_encoder import *\n",
    "from bse_dsdm.preprocessing.value_imputer import *\n",
    "from bse_dsdm.preprocessing.load_data import *\n",
    "from bse_dsdm.preprocessing.exploratory_analysis import *\n",
    "import pandas as pd\n",
    "from sklearn.model_selection import train_test_split\n",
    "from abc import ABC, abstractmethod\n",
    "import pandas as pd\n",
    "from datetime import datetime\n",
    "from sklearn.ensemble import RandomForestClassifier\n",
    "from sklearn.metrics import roc_auc_score\n",
    "\n"
   ]
  },
  {
   "cell_type": "markdown",
   "metadata": {},
   "source": [
    "LOAD DATA"
   ]
  },
  {
   "cell_type": "code",
   "execution_count": 77,
   "metadata": {},
   "outputs": [
    {
     "name": "stdout",
     "output_type": "stream",
     "text": [
      "          id   short_name  overall  potential   value_eur  wage_eur  \\\n",
      "0     216302    E. García       71         71   1400000.0     10000   \n",
      "1     237867   D. Cancola       65         71   1000000.0      2000   \n",
      "2     253472      E. Kahl       65         77   1600000.0      2000   \n",
      "3     223994    S. Mugoša       72         72   2300000.0      5000   \n",
      "4     251635  A. Țigănașu       65         65    525000.0      3000   \n",
      "...      ...          ...      ...        ...         ...       ...   \n",
      "6890  242007    C. Whelan       59         66    425000.0      2000   \n",
      "6891  187961     Paulinho       83         83  28500000.0     61000   \n",
      "6892  257234   Y. Hamache       70         80   3400000.0      6000   \n",
      "6893  232511    S. Sasaki       71         71   1300000.0      7000   \n",
      "6894  246750    S. Haudum       66         70   1100000.0      4000   \n",
      "\n",
      "     birthday_date  height_cm  weight_kg                  club_name  ...  \\\n",
      "0       1989-12-28        176         73  Club Atlético de San Luis  ...   \n",
      "1       1996-10-23        183         73             Ross County FC  ...   \n",
      "2       2001-09-27        178         69                  Aarhus GF  ...   \n",
      "3       1992-02-26        188         81          Incheon United FC  ...   \n",
      "4       1990-06-12        179         74                FC Botoşani  ...   \n",
      "...            ...        ...        ...                        ...  ...   \n",
      "6890    1997-12-10        180         65            Carlisle United  ...   \n",
      "6891    1988-07-25        183         80                    Al Ahli  ...   \n",
      "6892    1999-07-13        177         73                Boavista FC  ...   \n",
      "6893    1989-10-02        176         70        Sanfrecce Hiroshima  ...   \n",
      "6894    1994-11-27        188         74        SC Rheindorf Altach  ...   \n",
      "\n",
      "     defending_marking_awareness  defending_standing_tackle  \\\n",
      "0                             65                         66   \n",
      "1                             65                         61   \n",
      "2                             60                         58   \n",
      "3                             16                         22   \n",
      "4                             64                         61   \n",
      "...                          ...                        ...   \n",
      "6890                          52                         57   \n",
      "6891                          80                         79   \n",
      "6892                          62                         67   \n",
      "6893                          72                         72   \n",
      "6894                          65                         63   \n",
      "\n",
      "      defending_sliding_tackle goalkeeping_diving goalkeeping_handling  \\\n",
      "0                           65                 14                   11   \n",
      "1                           58                 10                   13   \n",
      "2                           59                 10                   10   \n",
      "3                           19                 16                   15   \n",
      "4                           58                 12                    5   \n",
      "...                        ...                ...                  ...   \n",
      "6890                        58                 12                    9   \n",
      "6891                        75                 16                   16   \n",
      "6892                        68                  8                    9   \n",
      "6893                        70                  8                   10   \n",
      "6894                        61                 14                    9   \n",
      "\n",
      "      goalkeeping_kicking goalkeeping_positioning  goalkeeping_reflexes  \\\n",
      "0                      12                      12                    12   \n",
      "1                       7                       6                    11   \n",
      "2                       8                      10                    11   \n",
      "3                      13                       8                     9   \n",
      "4                      11                      12                    15   \n",
      "...                   ...                     ...                   ...   \n",
      "6890                   10                       8                    13   \n",
      "6891                   11                       6                     8   \n",
      "6892                    5                       8                    10   \n",
      "6893                   10                      10                     8   \n",
      "6894                   11                       9                     6   \n",
      "\n",
      "     goalkeeping_speed  position  \n",
      "0                  NaN        LB  \n",
      "1                  NaN       LDM  \n",
      "2                  NaN       LWB  \n",
      "3                  NaN        LS  \n",
      "4                  NaN        LB  \n",
      "...                ...       ...  \n",
      "6890               NaN       RCB  \n",
      "6891               NaN       LCM  \n",
      "6892               NaN       LWB  \n",
      "6893               NaN       LCB  \n",
      "6894               NaN       RCM  \n",
      "\n",
      "[6895 rows x 70 columns]\n"
     ]
    }
   ],
   "source": [
    "df=load_csv_data('../train.csv')\n",
    "print(df)"
   ]
  },
  {
   "cell_type": "code",
   "execution_count": 78,
   "metadata": {},
   "outputs": [
    {
     "name": "stdout",
     "output_type": "stream",
     "text": [
      "          id   short_name  overall  potential   value_eur  wage_eur  \\\n",
      "0     216302    E. García       71         71   1400000.0     10000   \n",
      "1     237867   D. Cancola       65         71   1000000.0      2000   \n",
      "2     253472      E. Kahl       65         77   1600000.0      2000   \n",
      "3     223994    S. Mugoša       72         72   2300000.0      5000   \n",
      "4     251635  A. Țigănașu       65         65    525000.0      3000   \n",
      "...      ...          ...      ...        ...         ...       ...   \n",
      "6890  242007    C. Whelan       59         66    425000.0      2000   \n",
      "6891  187961     Paulinho       83         83  28500000.0     61000   \n",
      "6892  257234   Y. Hamache       70         80   3400000.0      6000   \n",
      "6893  232511    S. Sasaki       71         71   1300000.0      7000   \n",
      "6894  246750    S. Haudum       66         70   1100000.0      4000   \n",
      "\n",
      "     birthday_date  height_cm  weight_kg                  club_name  ...  \\\n",
      "0       1989-12-28        176         73  Club Atlético de San Luis  ...   \n",
      "1       1996-10-23        183         73             Ross County FC  ...   \n",
      "2       2001-09-27        178         69                  Aarhus GF  ...   \n",
      "3       1992-02-26        188         81          Incheon United FC  ...   \n",
      "4       1990-06-12        179         74                FC Botoşani  ...   \n",
      "...            ...        ...        ...                        ...  ...   \n",
      "6890    1997-12-10        180         65            Carlisle United  ...   \n",
      "6891    1988-07-25        183         80                    Al Ahli  ...   \n",
      "6892    1999-07-13        177         73                Boavista FC  ...   \n",
      "6893    1989-10-02        176         70        Sanfrecce Hiroshima  ...   \n",
      "6894    1994-11-27        188         74        SC Rheindorf Altach  ...   \n",
      "\n",
      "     mentality_composure  defending_marking_awareness  \\\n",
      "0                     66                           65   \n",
      "1                     59                           65   \n",
      "2                     65                           60   \n",
      "3                     75                           16   \n",
      "4                     58                           64   \n",
      "...                  ...                          ...   \n",
      "6890                  45                           52   \n",
      "6891                  81                           80   \n",
      "6892                  62                           62   \n",
      "6893                  60                           72   \n",
      "6894                  64                           65   \n",
      "\n",
      "      defending_standing_tackle defending_sliding_tackle  goalkeeping_diving  \\\n",
      "0                            66                       65                  14   \n",
      "1                            61                       58                  10   \n",
      "2                            58                       59                  10   \n",
      "3                            22                       19                  16   \n",
      "4                            61                       58                  12   \n",
      "...                         ...                      ...                 ...   \n",
      "6890                         57                       58                  12   \n",
      "6891                         79                       75                  16   \n",
      "6892                         67                       68                   8   \n",
      "6893                         72                       70                   8   \n",
      "6894                         63                       61                  14   \n",
      "\n",
      "     goalkeeping_handling goalkeeping_kicking  goalkeeping_positioning  \\\n",
      "0                      11                  12                       12   \n",
      "1                      13                   7                        6   \n",
      "2                      10                   8                       10   \n",
      "3                      15                  13                        8   \n",
      "4                       5                  11                       12   \n",
      "...                   ...                 ...                      ...   \n",
      "6890                    9                  10                        8   \n",
      "6891                   16                  11                        6   \n",
      "6892                    9                   5                        8   \n",
      "6893                   10                  10                       10   \n",
      "6894                    9                  11                        9   \n",
      "\n",
      "      goalkeeping_reflexes  position  \n",
      "0                       12        LB  \n",
      "1                       11       LDM  \n",
      "2                       11       LWB  \n",
      "3                        9        LS  \n",
      "4                       15        LB  \n",
      "...                    ...       ...  \n",
      "6890                    13       RCB  \n",
      "6891                     8       LCM  \n",
      "6892                    10       LWB  \n",
      "6893                     8       LCB  \n",
      "6894                     6       RCM  \n",
      "\n",
      "[6895 rows x 66 columns]\n"
     ]
    }
   ],
   "source": [
    "df=remove_columns_with_na(df,80)\n",
    "print(df)\n"
   ]
  },
  {
   "cell_type": "markdown",
   "metadata": {},
   "source": [
    "Preprocessing"
   ]
  },
  {
   "cell_type": "code",
   "execution_count": 79,
   "metadata": {},
   "outputs": [
    {
     "name": "stdout",
     "output_type": "stream",
     "text": [
      "['club_joined', 'player_traits']\n",
      "['value_eur', 'release_clause_eur', 'pace', 'shooting', 'passing', 'dribbling', 'defending', 'physic']\n"
     ]
    }
   ],
   "source": [
    "categorical_columns_na=columns_with_na(df)[0]\n",
    "print(categorical_columns_na)\n",
    "numerical_columns_na=columns_with_na(df)[1]\n",
    "print(numerical_columns_na)\n"
   ]
  },
  {
   "cell_type": "code",
   "execution_count": 80,
   "metadata": {},
   "outputs": [
    {
     "name": "stderr",
     "output_type": "stream",
     "text": [
      "c:\\users\\usuario\\onedrive\\escritorio\\bse\\computer.science\\new project computer science\\bse_dsdm\\bse_dsdm\\preprocessing\\value_imputer.py:26: FutureWarning: The default value of numeric_only in DataFrame.mean is deprecated. In a future version, it will default to False. In addition, specifying 'numeric_only=None' is deprecated. Select only valid columns or specify the value of numeric_only to silence this warning.\n",
      "  filled_df = df.fillna(df.mean())\n"
     ]
    }
   ],
   "source": [
    "df=impute_values(df,numerical_columns_na, impute_type='mean')"
   ]
  },
  {
   "cell_type": "code",
   "execution_count": 81,
   "metadata": {},
   "outputs": [],
   "source": [
    "df=impute_categorical(df,categorical_columns_na)"
   ]
  },
  {
   "cell_type": "code",
   "execution_count": 82,
   "metadata": {},
   "outputs": [],
   "source": [
    "mapping={'work_rate': {'Low/Low': 1, 'Low/Medium': 2, 'Low/High': 3, 'Medium/Low': 4, 'Medium/Medium': 5, 'Medium/High': 6, 'High/Low': 7, 'High/Medium': 8, 'High/High': 9}}\n",
    "\n",
    "df = encode_ordinal_columns(df, columns=['work_rate'], mapping=mapping)"
   ]
  },
  {
   "cell_type": "code",
   "execution_count": 83,
   "metadata": {},
   "outputs": [],
   "source": [
    "df['nationality_name'] = target_encode_column(df, 'nationality_name', 'height_cm', compute_type='mean')"
   ]
  },
  {
   "cell_type": "code",
   "execution_count": 84,
   "metadata": {},
   "outputs": [
    {
     "name": "stderr",
     "output_type": "stream",
     "text": [
      "c:\\Users\\USUARIO\\anaconda3\\Lib\\site-packages\\sklearn\\preprocessing\\_encoders.py:975: FutureWarning: `sparse` was renamed to `sparse_output` in version 1.2 and will be removed in 1.4. `sparse_output` is ignored unless you leave `sparse` to its default value.\n",
      "  warnings.warn(\n"
     ]
    }
   ],
   "source": [
    "df=encode_categorical_columns(df,column='preferred_foot')"
   ]
  },
  {
   "cell_type": "code",
   "execution_count": 85,
   "metadata": {},
   "outputs": [],
   "source": [
    "df = convert_to_age(df, 'birthday_date',2021)"
   ]
  },
  {
   "cell_type": "code",
   "execution_count": 86,
   "metadata": {},
   "outputs": [],
   "source": [
    "df=extract_string(df,'body_type')"
   ]
  },
  {
   "cell_type": "code",
   "execution_count": 87,
   "metadata": {},
   "outputs": [],
   "source": [
    "feature_columns=['attacking_crossing', 'attacking_finishing', 'attacking_heading_accuracy', 'attacking_short_passing', 'attacking_volleys', 'skill_dribbling', 'skill_curve', 'skill_fk_accuracy', 'skill_long_passing', 'skill_ball_control', 'movement_acceleration', 'movement_sprint_speed', 'movement_agility', 'movement_reactions', 'movement_balance', 'power_shot_power', 'power_jumping', 'power_stamina', 'power_strength', 'power_long_shots', 'mentality_aggression', 'mentality_interceptions', 'mentality_positioning', 'mentality_vision', 'mentality_penalties', 'mentality_composure', 'defending_marking_awareness', 'defending_standing_tackle', 'defending_sliding_tackle']\n",
    "target_column=['position']\n",
    "X=df[feature_columns]\n",
    "y=df['position']\n",
    "X_train, X_test, y_train, y_test = train_test_split(X,y, test_size=0.2, random_state=42)\n"
   ]
  },
  {
   "cell_type": "code",
   "execution_count": 88,
   "metadata": {},
   "outputs": [
    {
     "ename": "ValueError",
     "evalue": "could not convert string to float: 'RM'",
     "output_type": "error",
     "traceback": [
      "\u001b[1;31m---------------------------------------------------------------------------\u001b[0m",
      "\u001b[1;31mValueError\u001b[0m                                Traceback (most recent call last)",
      "\u001b[1;32mc:\\Users\\USUARIO\\OneDrive\\Escritorio\\BSE\\Computer.Science\\new project computer science\\bse_dsdm\\Notebook\\.ipynb Cell 15\u001b[0m line \u001b[0;36m2\n\u001b[0;32m     <a href='vscode-notebook-cell:/c%3A/Users/USUARIO/OneDrive/Escritorio/BSE/Computer.Science/new%20project%20computer%20science/bse_dsdm/Notebook/.ipynb#Y112sZmlsZQ%3D%3D?line=22'>23</a>\u001b[0m rf_model \u001b[39m=\u001b[39m RandomForestModel()\n\u001b[0;32m     <a href='vscode-notebook-cell:/c%3A/Users/USUARIO/OneDrive/Escritorio/BSE/Computer.Science/new%20project%20computer%20science/bse_dsdm/Notebook/.ipynb#Y112sZmlsZQ%3D%3D?line=24'>25</a>\u001b[0m \u001b[39m# Fit the model\u001b[39;00m\n\u001b[1;32m---> <a href='vscode-notebook-cell:/c%3A/Users/USUARIO/OneDrive/Escritorio/BSE/Computer.Science/new%20project%20computer%20science/bse_dsdm/Notebook/.ipynb#Y112sZmlsZQ%3D%3D?line=25'>26</a>\u001b[0m rf_model\u001b[39m.\u001b[39mfit(X_train, y_train)\n\u001b[0;32m     <a href='vscode-notebook-cell:/c%3A/Users/USUARIO/OneDrive/Escritorio/BSE/Computer.Science/new%20project%20computer%20science/bse_dsdm/Notebook/.ipynb#Y112sZmlsZQ%3D%3D?line=27'>28</a>\u001b[0m \u001b[39m# Evaluate the model\u001b[39;00m\n\u001b[0;32m     <a href='vscode-notebook-cell:/c%3A/Users/USUARIO/OneDrive/Escritorio/BSE/Computer.Science/new%20project%20computer%20science/bse_dsdm/Notebook/.ipynb#Y112sZmlsZQ%3D%3D?line=28'>29</a>\u001b[0m mse \u001b[39m=\u001b[39m rf_model\u001b[39m.\u001b[39mevaluate(X_test, y_test)\n",
      "\u001b[1;32mc:\\Users\\USUARIO\\OneDrive\\Escritorio\\BSE\\Computer.Science\\new project computer science\\bse_dsdm\\Notebook\\.ipynb Cell 15\u001b[0m line \u001b[0;36m1\n\u001b[0;32m     <a href='vscode-notebook-cell:/c%3A/Users/USUARIO/OneDrive/Escritorio/BSE/Computer.Science/new%20project%20computer%20science/bse_dsdm/Notebook/.ipynb#Y112sZmlsZQ%3D%3D?line=10'>11</a>\u001b[0m \u001b[39mdef\u001b[39;00m \u001b[39mfit\u001b[39m(\u001b[39mself\u001b[39m, X_train, y_train):\n\u001b[1;32m---> <a href='vscode-notebook-cell:/c%3A/Users/USUARIO/OneDrive/Escritorio/BSE/Computer.Science/new%20project%20computer%20science/bse_dsdm/Notebook/.ipynb#Y112sZmlsZQ%3D%3D?line=11'>12</a>\u001b[0m     \u001b[39mself\u001b[39m\u001b[39m.\u001b[39mmodel\u001b[39m.\u001b[39mfit(X_train, y_train)\n",
      "File \u001b[1;32mc:\\Users\\USUARIO\\anaconda3\\Lib\\site-packages\\sklearn\\base.py:1152\u001b[0m, in \u001b[0;36m_fit_context.<locals>.decorator.<locals>.wrapper\u001b[1;34m(estimator, *args, **kwargs)\u001b[0m\n\u001b[0;32m   1145\u001b[0m     estimator\u001b[39m.\u001b[39m_validate_params()\n\u001b[0;32m   1147\u001b[0m \u001b[39mwith\u001b[39;00m config_context(\n\u001b[0;32m   1148\u001b[0m     skip_parameter_validation\u001b[39m=\u001b[39m(\n\u001b[0;32m   1149\u001b[0m         prefer_skip_nested_validation \u001b[39mor\u001b[39;00m global_skip_validation\n\u001b[0;32m   1150\u001b[0m     )\n\u001b[0;32m   1151\u001b[0m ):\n\u001b[1;32m-> 1152\u001b[0m     \u001b[39mreturn\u001b[39;00m fit_method(estimator, \u001b[39m*\u001b[39margs, \u001b[39m*\u001b[39m\u001b[39m*\u001b[39mkwargs)\n",
      "File \u001b[1;32mc:\\Users\\USUARIO\\anaconda3\\Lib\\site-packages\\sklearn\\ensemble\\_forest.py:393\u001b[0m, in \u001b[0;36mBaseForest.fit\u001b[1;34m(self, X, y, sample_weight)\u001b[0m\n\u001b[0;32m    390\u001b[0m y, expanded_class_weight \u001b[39m=\u001b[39m \u001b[39mself\u001b[39m\u001b[39m.\u001b[39m_validate_y_class_weight(y)\n\u001b[0;32m    392\u001b[0m \u001b[39mif\u001b[39;00m \u001b[39mgetattr\u001b[39m(y, \u001b[39m\"\u001b[39m\u001b[39mdtype\u001b[39m\u001b[39m\"\u001b[39m, \u001b[39mNone\u001b[39;00m) \u001b[39m!=\u001b[39m DOUBLE \u001b[39mor\u001b[39;00m \u001b[39mnot\u001b[39;00m y\u001b[39m.\u001b[39mflags\u001b[39m.\u001b[39mcontiguous:\n\u001b[1;32m--> 393\u001b[0m     y \u001b[39m=\u001b[39m np\u001b[39m.\u001b[39mascontiguousarray(y, dtype\u001b[39m=\u001b[39mDOUBLE)\n\u001b[0;32m    395\u001b[0m \u001b[39mif\u001b[39;00m expanded_class_weight \u001b[39mis\u001b[39;00m \u001b[39mnot\u001b[39;00m \u001b[39mNone\u001b[39;00m:\n\u001b[0;32m    396\u001b[0m     \u001b[39mif\u001b[39;00m sample_weight \u001b[39mis\u001b[39;00m \u001b[39mnot\u001b[39;00m \u001b[39mNone\u001b[39;00m:\n",
      "\u001b[1;31mValueError\u001b[0m: could not convert string to float: 'RM'"
     ]
    }
   ],
   "source": [
    "from sklearn.ensemble import RandomForestRegressor\n",
    "from sklearn.metrics import mean_squared_error\n",
    "from sklearn.model_selection import train_test_split\n",
    "\n",
    "class RandomForestModel:\n",
    "    def __init__(self, n_estimators=100, random_state=42):\n",
    "        self.n_estimators = n_estimators\n",
    "        self.random_state = random_state\n",
    "        self.model = RandomForestRegressor(n_estimators=n_estimators, random_state=random_state)\n",
    "\n",
    "    def fit(self, X_train, y_train):\n",
    "        self.model.fit(X_train, y_train)\n",
    "\n",
    "    def predict(self, X_test):\n",
    "        return self.model.predict(X_test)\n",
    "\n",
    "    def evaluate(self, X_test, y_test):\n",
    "        predictions = self.predict(X_test)\n",
    "        mse = mean_squared_error(y_test, predictions)\n",
    "        return mse\n",
    "\n",
    "\n",
    "rf_model = RandomForestModel()\n",
    "\n",
    "# Fit the model\n",
    "rf_model.fit(X_train, y_train)\n",
    "\n",
    "# Evaluate the model\n",
    "mse = rf_model.evaluate(X_test, y_test)\n",
    "print(f\"Mean Squared Error (MSE) on test set: {mse}\")\n",
    "\n",
    "\n"
   ]
  }
 ],
 "metadata": {
  "kernelspec": {
   "display_name": "Python 3",
   "language": "python",
   "name": "python3"
  },
  "language_info": {
   "codemirror_mode": {
    "name": "ipython",
    "version": 3
   },
   "file_extension": ".py",
   "mimetype": "text/x-python",
   "name": "python",
   "nbconvert_exporter": "python",
   "pygments_lexer": "ipython3",
   "version": "3.11.4"
  }
 },
 "nbformat": 4,
 "nbformat_minor": 2
}
