{
 "cells": [
  {
   "cell_type": "code",
   "execution_count": 1,
   "metadata": {},
   "outputs": [],
   "source": [
    "from bse_dsdm.preprocessing.feature_scaling import *\n",
    "from bse_dsdm.preprocessing.outlier_detection import *\n",
    "from bse_dsdm.preprocessing.value_encoder import *\n",
    "from bse_dsdm.preprocessing.value_imputer import *\n",
    "from bse_dsdm.preprocessing.data_loader import *\n",
    "#from bse_dsdm.preprocessing.preprocessing_pipeline import *\n",
    "from bse_dsdm.accuracy_testing.error_testing_methods import *\n",
    "from bse_dsdm.preprocessing.exploratory_analysis import *\n",
    "from bse_dsdm.accuracy_testing.cross_validation import *\n",
    "from bse_dsdm.model_development.model import *\n",
    "import pandas as pd\n",
    "from sklearn.model_selection import train_test_split\n",
    "from abc import ABC, abstractmethod\n",
    "import pandas as pd\n",
    "from datetime import datetime\n",
    "from sklearn.ensemble import RandomForestClassifier\n",
    "from sklearn.metrics import roc_auc_score\n",
    "import pandas as pd\n",
    "from sklearn.model_selection import train_test_split\n",
    "from sklearn.metrics import accuracy_score, f1_score, roc_auc_score, roc_curve, auc\n",
    "from sklearn.model_selection import GridSearchCV"
   ]
  },
  {
   "cell_type": "markdown",
   "metadata": {},
   "source": [
    "LOAD DATA"
   ]
  },
  {
   "cell_type": "code",
   "execution_count": 2,
   "metadata": {},
   "outputs": [],
   "source": [
    "#Load the data\n",
    "data=MLDataLoader()\n",
    "data.load_data(\"../train.csv\")\n"
   ]
  },
  {
   "cell_type": "markdown",
   "metadata": {},
   "source": [
    "PREPROCESSING"
   ]
  },
  {
   "cell_type": "code",
   "execution_count": 3,
   "metadata": {},
   "outputs": [],
   "source": [
    "#Delete columns that exceed 80% of null values\n",
    "data.data=remove_columns_with_na(data.data,80)\n"
   ]
  },
  {
   "cell_type": "code",
   "execution_count": 4,
   "metadata": {},
   "outputs": [
    {
     "name": "stdout",
     "output_type": "stream",
     "text": [
      "['club_joined', 'player_traits']\n",
      "['value_eur', 'release_clause_eur', 'pace', 'shooting', 'passing', 'dribbling', 'defending', 'physic']\n"
     ]
    }
   ],
   "source": [
    "#Returns the categorical and numerical columns with null values\n",
    "categorical_columns_na=get_columns_by_type(data.data)[0]\n",
    "print(categorical_columns_na)\n",
    "numerical_columns_na=get_columns_by_type(data.data)[1]\n",
    "print(numerical_columns_na)\n"
   ]
  },
  {
   "cell_type": "code",
   "execution_count": 5,
   "metadata": {},
   "outputs": [],
   "source": [
    "#Impute numerical values with the mean\n",
    "data.data[numerical_columns_na]=impute_values(data.data[numerical_columns_na], impute_type='mean')"
   ]
  },
  {
   "cell_type": "code",
   "execution_count": 6,
   "metadata": {},
   "outputs": [
    {
     "name": "stdout",
     "output_type": "stream",
     "text": [
      "          id   short_name  overall  potential   value_eur  wage_eur  \\\n",
      "0     216302    E. García       71         71   1400000.0     10000   \n",
      "1     237867   D. Cancola       65         71   1000000.0      2000   \n",
      "2     253472      E. Kahl       65         77   1600000.0      2000   \n",
      "3     223994    S. Mugoša       72         72   2300000.0      5000   \n",
      "4     251635  A. Țigănașu       65         65    525000.0      3000   \n",
      "...      ...          ...      ...        ...         ...       ...   \n",
      "6890  242007    C. Whelan       59         66    425000.0      2000   \n",
      "6891  187961     Paulinho       83         83  28500000.0     61000   \n",
      "6892  257234   Y. Hamache       70         80   3400000.0      6000   \n",
      "6893  232511    S. Sasaki       71         71   1300000.0      7000   \n",
      "6894  246750    S. Haudum       66         70   1100000.0      4000   \n",
      "\n",
      "     birthday_date  height_cm  weight_kg                  club_name  ...  \\\n",
      "0       1989-12-28        176         73  Club Atlético de San Luis  ...   \n",
      "1       1996-10-23        183         73             Ross County FC  ...   \n",
      "2       2001-09-27        178         69                  Aarhus GF  ...   \n",
      "3       1992-02-26        188         81          Incheon United FC  ...   \n",
      "4       1990-06-12        179         74                FC Botoşani  ...   \n",
      "...            ...        ...        ...                        ...  ...   \n",
      "6890    1997-12-10        180         65            Carlisle United  ...   \n",
      "6891    1988-07-25        183         80                    Al Ahli  ...   \n",
      "6892    1999-07-13        177         73                Boavista FC  ...   \n",
      "6893    1989-10-02        176         70        Sanfrecce Hiroshima  ...   \n",
      "6894    1994-11-27        188         74        SC Rheindorf Altach  ...   \n",
      "\n",
      "     mentality_composure  defending_marking_awareness  \\\n",
      "0                     66                           65   \n",
      "1                     59                           65   \n",
      "2                     65                           60   \n",
      "3                     75                           16   \n",
      "4                     58                           64   \n",
      "...                  ...                          ...   \n",
      "6890                  45                           52   \n",
      "6891                  81                           80   \n",
      "6892                  62                           62   \n",
      "6893                  60                           72   \n",
      "6894                  64                           65   \n",
      "\n",
      "      defending_standing_tackle defending_sliding_tackle  goalkeeping_diving  \\\n",
      "0                            66                       65                  14   \n",
      "1                            61                       58                  10   \n",
      "2                            58                       59                  10   \n",
      "3                            22                       19                  16   \n",
      "4                            61                       58                  12   \n",
      "...                         ...                      ...                 ...   \n",
      "6890                         57                       58                  12   \n",
      "6891                         79                       75                  16   \n",
      "6892                         67                       68                   8   \n",
      "6893                         72                       70                   8   \n",
      "6894                         63                       61                  14   \n",
      "\n",
      "     goalkeeping_handling goalkeeping_kicking  goalkeeping_positioning  \\\n",
      "0                      11                  12                       12   \n",
      "1                      13                   7                        6   \n",
      "2                      10                   8                       10   \n",
      "3                      15                  13                        8   \n",
      "4                       5                  11                       12   \n",
      "...                   ...                 ...                      ...   \n",
      "6890                    9                  10                        8   \n",
      "6891                   16                  11                        6   \n",
      "6892                    9                   5                        8   \n",
      "6893                   10                  10                       10   \n",
      "6894                    9                  11                        9   \n",
      "\n",
      "      goalkeeping_reflexes  position  \n",
      "0                       12        LB  \n",
      "1                       11       LDM  \n",
      "2                       11       LWB  \n",
      "3                        9        LS  \n",
      "4                       15        LB  \n",
      "...                    ...       ...  \n",
      "6890                    13       RCB  \n",
      "6891                     8       LCM  \n",
      "6892                    10       LWB  \n",
      "6893                     8       LCB  \n",
      "6894                     6       RCM  \n",
      "\n",
      "[6895 rows x 66 columns]\n"
     ]
    }
   ],
   "source": [
    "#impute categorical values with the mode\n",
    "\n",
    "data.data=impute_categorical(data.data,categorical_columns_na)"
   ]
  },
  {
   "cell_type": "markdown",
   "metadata": {},
   "source": [
    "Features"
   ]
  },
  {
   "cell_type": "code",
   "execution_count": 7,
   "metadata": {},
   "outputs": [],
   "source": [
    "#Encode ordinal columns\n",
    "mapping={'work_rate': {'Low/Low': 1, 'Low/Medium': 2, 'Low/High': 3, 'Medium/Low': 4, 'Medium/Medium': 5, 'Medium/High': 6, 'High/Low': 7, 'High/Medium': 8, 'High/High': 9}}\n",
    "\n",
    "data.data = encode_ordinal_columns(data.data, columns=['work_rate'], mapping=mapping)"
   ]
  },
  {
   "cell_type": "code",
   "execution_count": 8,
   "metadata": {},
   "outputs": [],
   "source": [
    "# Target encode column  \n",
    "#Each row in this column will contain the mean height cm of individuals belonging to a particular nationality\n",
    "data.data['nationality_name'] = target_encode_column(data.data, 'nationality_name', 'height_cm', compute_type='mean')"
   ]
  },
  {
   "cell_type": "code",
   "execution_count": 9,
   "metadata": {},
   "outputs": [
    {
     "name": "stderr",
     "output_type": "stream",
     "text": [
      "c:\\Users\\USUARIO\\anaconda3\\Lib\\site-packages\\sklearn\\preprocessing\\_encoders.py:975: FutureWarning: `sparse` was renamed to `sparse_output` in version 1.2 and will be removed in 1.4. `sparse_output` is ignored unless you leave `sparse` to its default value.\n",
      "  warnings.warn(\n"
     ]
    }
   ],
   "source": [
    "# One-hot enconding\n",
    "#Replaces categorical columns with binary columns(0s and 1s)\n",
    "data.data=encode_categorical_columns(data.data,column='preferred_foot')"
   ]
  },
  {
   "cell_type": "code",
   "execution_count": 10,
   "metadata": {},
   "outputs": [],
   "source": [
    "#The year is extracted for the birthday date and substracted for the year of the data\n",
    "data.data = convert_to_age(data.data, 'birthday_date',2021)"
   ]
  },
  {
   "cell_type": "code",
   "execution_count": 11,
   "metadata": {},
   "outputs": [],
   "source": [
    "#One hot encoded columns derived from the processed strings in the specified column\n",
    "data.data=extract_string(data.data,'body_type')"
   ]
  },
  {
   "cell_type": "code",
   "execution_count": 12,
   "metadata": {},
   "outputs": [],
   "source": [
    "#we split the data between train and test\n",
    "data.split_data()\n"
   ]
  },
  {
   "cell_type": "code",
   "execution_count": 13,
   "metadata": {},
   "outputs": [],
   "source": [
    "\n",
    "feature_columns=['attacking_crossing', 'attacking_finishing', 'attacking_heading_accuracy', 'attacking_short_passing', 'attacking_volleys', 'skill_dribbling', 'skill_curve', 'skill_fk_accuracy', 'skill_long_passing', 'skill_ball_control', 'movement_acceleration', 'movement_sprint_speed', 'movement_agility', 'movement_reactions', 'movement_balance', 'power_shot_power', 'power_jumping', 'power_stamina', 'power_strength', 'power_long_shots', 'mentality_aggression', 'mentality_interceptions', 'mentality_positioning', 'mentality_vision', 'mentality_penalties', 'mentality_composure', 'defending_marking_awareness', 'defending_standing_tackle', 'defending_sliding_tackle']\n",
    "target_column=['position']\n",
    "X=data.data[feature_columns]\n",
    "y=data.data['position']\n"
   ]
  },
  {
   "cell_type": "code",
   "execution_count": 14,
   "metadata": {},
   "outputs": [],
   "source": [
    "data.data=scale_features(data.data,feature_columns,'min_max')"
   ]
  },
  {
   "cell_type": "code",
   "execution_count": 15,
   "metadata": {},
   "outputs": [
    {
     "name": "stderr",
     "output_type": "stream",
     "text": [
      "c:\\Users\\USUARIO\\anaconda3\\Lib\\site-packages\\sklearn\\base.py:1152: DataConversionWarning: A column-vector y was passed when a 1d array was expected. Please change the shape of y to (n_samples,), for example using ravel().\n",
      "  return fit_method(estimator, *args, **kwargs)\n"
     ]
    },
    {
     "name": "stdout",
     "output_type": "stream",
     "text": [
      "predictions:['LCM' 'RCB' 'LCB' ... 'RCM' 'ST' 'GK']\n",
      "Accuracy: 0.3836113125453227\n"
     ]
    }
   ],
   "source": [
    "\n",
    "model = RandomForestModel(feature_columns, target_column, data.train_data, data.test_data)\n",
    "model.train()\n",
    "predictions = model.predict()\n",
    "print(f\"predictions:{predictions}\")\n",
    "\n",
    "accuracy = model.get_accuracy(predictions, data.test_data[target_column])\n",
    "print(f\"Accuracy: {accuracy}\")\n"
   ]
  },
  {
   "cell_type": "code",
   "execution_count": 17,
   "metadata": {},
   "outputs": [
    {
     "name": "stdout",
     "output_type": "stream",
     "text": [
      "Fitting 5 folds for each of 81 candidates, totalling 405 fits\n"
     ]
    },
    {
     "name": "stderr",
     "output_type": "stream",
     "text": [
      "c:\\Users\\USUARIO\\anaconda3\\Lib\\site-packages\\sklearn\\model_selection\\_validation.py:425: FitFailedWarning: \n",
      "225 fits failed out of a total of 405.\n",
      "The score on these train-test partitions for these parameters will be set to nan.\n",
      "If these failures are not expected, you can try to debug them by setting error_score='raise'.\n",
      "\n",
      "Below are more details about the failures:\n",
      "--------------------------------------------------------------------------------\n",
      "135 fits failed with the following error:\n",
      "Traceback (most recent call last):\n",
      "  File \"c:\\Users\\USUARIO\\anaconda3\\Lib\\site-packages\\sklearn\\model_selection\\_validation.py\", line 729, in _fit_and_score\n",
      "    estimator.fit(X_train, y_train, **fit_params)\n",
      "  File \"c:\\Users\\USUARIO\\anaconda3\\Lib\\site-packages\\sklearn\\base.py\", line 1145, in wrapper\n",
      "    estimator._validate_params()\n",
      "  File \"c:\\Users\\USUARIO\\anaconda3\\Lib\\site-packages\\sklearn\\base.py\", line 638, in _validate_params\n",
      "    validate_parameter_constraints(\n",
      "  File \"c:\\Users\\USUARIO\\anaconda3\\Lib\\site-packages\\sklearn\\utils\\_param_validation.py\", line 96, in validate_parameter_constraints\n",
      "    raise InvalidParameterError(\n",
      "sklearn.utils._param_validation.InvalidParameterError: The 'max_depth' parameter of RandomForestClassifier must be an int in the range [1, inf) or None. Got 0 instead.\n",
      "\n",
      "--------------------------------------------------------------------------------\n",
      "90 fits failed with the following error:\n",
      "Traceback (most recent call last):\n",
      "  File \"c:\\Users\\USUARIO\\anaconda3\\Lib\\site-packages\\sklearn\\model_selection\\_validation.py\", line 729, in _fit_and_score\n",
      "    estimator.fit(X_train, y_train, **fit_params)\n",
      "  File \"c:\\Users\\USUARIO\\anaconda3\\Lib\\site-packages\\sklearn\\base.py\", line 1145, in wrapper\n",
      "    estimator._validate_params()\n",
      "  File \"c:\\Users\\USUARIO\\anaconda3\\Lib\\site-packages\\sklearn\\base.py\", line 638, in _validate_params\n",
      "    validate_parameter_constraints(\n",
      "  File \"c:\\Users\\USUARIO\\anaconda3\\Lib\\site-packages\\sklearn\\utils\\_param_validation.py\", line 96, in validate_parameter_constraints\n",
      "    raise InvalidParameterError(\n",
      "sklearn.utils._param_validation.InvalidParameterError: The 'min_samples_split' parameter of RandomForestClassifier must be an int in the range [2, inf) or a float in the range (0.0, 1.0]. Got 1 instead.\n",
      "\n",
      "  warnings.warn(some_fits_failed_message, FitFailedWarning)\n",
      "c:\\Users\\USUARIO\\anaconda3\\Lib\\site-packages\\sklearn\\model_selection\\_search.py:979: UserWarning: One or more of the test scores are non-finite: [       nan        nan        nan        nan        nan        nan\n",
      "        nan        nan        nan        nan        nan        nan\n",
      "        nan        nan        nan        nan        nan        nan\n",
      "        nan        nan        nan        nan        nan        nan\n",
      "        nan        nan        nan        nan        nan        nan\n",
      " 0.34028506 0.36022623 0.36566413 0.34137087 0.36838399 0.36675125\n",
      "        nan        nan        nan 0.35478619 0.36566561 0.37382517\n",
      " 0.34445123 0.35950044 0.36040821        nan        nan        nan\n",
      " 0.3500744  0.35732488 0.36294444 0.3500744  0.35732488 0.36294444\n",
      "        nan        nan        nan 0.33013143 0.35370071 0.36149894\n",
      " 0.32578048 0.34445337 0.35841332        nan        nan        nan\n",
      " 0.33248863 0.3584143  0.36512131 0.33357625 0.35605743 0.35678042\n",
      "        nan        nan        nan 0.33901809 0.35533459 0.36077151\n",
      " 0.33901809 0.35533459 0.36077151]\n",
      "  warnings.warn(\n",
      "c:\\Users\\USUARIO\\anaconda3\\Lib\\site-packages\\sklearn\\base.py:1152: DataConversionWarning: A column-vector y was passed when a 1d array was expected. Please change the shape of y to (n_samples,), for example using ravel().\n",
      "  return fit_method(estimator, *args, **kwargs)\n"
     ]
    },
    {
     "name": "stdout",
     "output_type": "stream",
     "text": [
      "Best Hyperparameters: {'max_depth': 10, 'min_samples_leaf': 2, 'min_samples_split': 3, 'n_estimators': 15}\n",
      "Best Accuracy: 0.3738251737685101\n",
      "Test Accuracy with Best Hyperparameters: 0.3828861493836113\n"
     ]
    }
   ],
   "source": [
    "\n",
    "model = RandomForestModel(feature_columns, target_column, data.train_data, data.test_data)\n",
    "\n",
    "param_grid = {\n",
    "    'n_estimators': [20, 100, 200],\n",
    "    'max_depth': [None, 10, 15],\n",
    "    'min_samples_split': [1, 3, 5],\n",
    "    'min_samples_leaf': [1, 2, 4],\n",
    "}\n",
    "\n",
    "\n",
    "best_model = perform_grid_search(model, param_grid)\n"
   ]
  },
  {
   "cell_type": "code",
   "execution_count": 21,
   "metadata": {},
   "outputs": [
    {
     "name": "stdout",
     "output_type": "stream",
     "text": [
      "------ Multiclass Classification Metrics Summary ------\n",
      "Accuracy: 0.3829 - The proportion of correctly classified instances.\n",
      "Precision: 0.3157 - Weighted average precision across all classes.\n",
      "Recall: 0.3829 - Weighted average recall across all classes.\n",
      "F1 Score: 0.3354 - Weighted average F1 score across all classes.\n"
     ]
    },
    {
     "name": "stderr",
     "output_type": "stream",
     "text": [
      "c:\\Users\\USUARIO\\anaconda3\\Lib\\site-packages\\sklearn\\metrics\\_classification.py:1471: UndefinedMetricWarning: Precision and F-score are ill-defined and being set to 0.0 in labels with no predicted samples. Use `zero_division` parameter to control this behavior.\n",
      "  _warn_prf(average, modifier, msg_start, len(result))\n"
     ]
    }
   ],
   "source": [
    "evaluate_classification_metrics(model.test_data[model.target_column], best_model.predict(model.test_data[feature_columns]))"
   ]
  }
 ],
 "metadata": {
  "kernelspec": {
   "display_name": "Python 3",
   "language": "python",
   "name": "python3"
  },
  "language_info": {
   "codemirror_mode": {
    "name": "ipython",
    "version": 3
   },
   "file_extension": ".py",
   "mimetype": "text/x-python",
   "name": "python",
   "nbconvert_exporter": "python",
   "pygments_lexer": "ipython3",
   "version": "3.11.4"
  }
 },
 "nbformat": 4,
 "nbformat_minor": 2
}
